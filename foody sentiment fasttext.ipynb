{
 "cells": [
  {
   "cell_type": "markdown",
   "metadata": {},
   "source": [
    "# Sentiment analysis với dữ liệu foody sử dụng fasttext"
   ]
  },
  {
   "cell_type": "code",
   "execution_count": 2,
   "metadata": {
    "collapsed": true
   },
   "outputs": [],
   "source": [
    "import fasttext\n",
    "import os,sys  \n",
    "import pandas as pd\n",
    "import numpy as np\n",
    "import fasttext\n",
    "import re\n",
    "from sklearn.model_selection import train_test_split"
   ]
  },
  {
   "cell_type": "code",
   "execution_count": 3,
   "metadata": {},
   "outputs": [
    {
     "name": "stdout",
     "output_type": "stream",
     "text": [
      "3.5.2 (default, Sep 14 2017, 22:51:06) \n",
      "[GCC 5.4.0 20160609]\n"
     ]
    }
   ],
   "source": [
    "import warnings\n",
    "warnings.filterwarnings('ignore')\n",
    "print(sys.version)"
   ]
  },
  {
   "cell_type": "markdown",
   "metadata": {},
   "source": [
    "## Sử dụng library fastext của python"
   ]
  },
  {
   "cell_type": "code",
   "execution_count": 5,
   "metadata": {},
   "outputs": [
    {
     "data": {
      "text/html": [
       "<div>\n",
       "<style>\n",
       "    .dataframe thead tr:only-child th {\n",
       "        text-align: right;\n",
       "    }\n",
       "\n",
       "    .dataframe thead th {\n",
       "        text-align: left;\n",
       "    }\n",
       "\n",
       "    .dataframe tbody tr th {\n",
       "        vertical-align: top;\n",
       "    }\n",
       "</style>\n",
       "<table border=\"1\" class=\"dataframe\">\n",
       "  <thead>\n",
       "    <tr style=\"text-align: right;\">\n",
       "      <th></th>\n",
       "      <th>user_link</th>\n",
       "      <th>user_name</th>\n",
       "      <th>brand_name</th>\n",
       "      <th>brand_link</th>\n",
       "      <th>review_content</th>\n",
       "      <th>score</th>\n",
       "    </tr>\n",
       "  </thead>\n",
       "  <tbody>\n",
       "    <tr>\n",
       "      <th>0</th>\n",
       "      <td>https://www.foody.vn/thanh-vien/taiyo</td>\n",
       "      <td>Sunny</td>\n",
       "      <td>El Sol - Meat &amp; Wine - Võ Thị Sáu</td>\n",
       "      <td>https://www.foody.vn/ho-chi-minh/el-sol-meat-w...</td>\n",
       "      <td>Quán steak hiếm hoi mà mình cực kì ưng ý từ lâ...</td>\n",
       "      <td>8.6</td>\n",
       "    </tr>\n",
       "    <tr>\n",
       "      <th>1</th>\n",
       "      <td>https://www.foody.vn/thanh-vien/viola_0309_tv</td>\n",
       "      <td>Nguyên Khánh</td>\n",
       "      <td>Busan Korean Food - Món Hàn Quốc - Đinh Tiên H...</td>\n",
       "      <td>https://www.foody.vn/ho-chi-minh/busan-korean-...</td>\n",
       "      <td>Vị trí dễ tìm. Giữ xe rất nhiệt tình. Dắt xe v...</td>\n",
       "      <td>7.4</td>\n",
       "    </tr>\n",
       "    <tr>\n",
       "      <th>2</th>\n",
       "      <td>https://www.foody.vn/thanh-vien/tuhao2509</td>\n",
       "      <td>Tú Hảo</td>\n",
       "      <td>TocoToco Bubble Tea - Cộng Hòa</td>\n",
       "      <td>https://www.foody.vn/ho-chi-minh/tocotoco-bubb...</td>\n",
       "      <td>Địa điểm quán dễ tìm. Không gian cũng rộng, có...</td>\n",
       "      <td>6.4</td>\n",
       "    </tr>\n",
       "    <tr>\n",
       "      <th>3</th>\n",
       "      <td>https://www.foody.vn/thanh-vien/zip_zilip</td>\n",
       "      <td>Vy Nhật</td>\n",
       "      <td>Le Castella Viet Nam - Bánh Bông Lan Đài Loan ...</td>\n",
       "      <td>https://www.foody.vn/ho-chi-minh/le-castella-v...</td>\n",
       "      <td>Thấy bánh này đang hot rần rần mình cũng gọi t...</td>\n",
       "      <td>7.2</td>\n",
       "    </tr>\n",
       "    <tr>\n",
       "      <th>4</th>\n",
       "      <td>https://www.foody.vn/thanh-vien/tien97</td>\n",
       "      <td>Tien97</td>\n",
       "      <td>Tabletop - Boardgame &amp; Coffee</td>\n",
       "      <td>https://www.foody.vn/ho-chi-minh/tabletop-boar...</td>\n",
       "      <td>Mỗi lần nghĩ tới boardgame thì sẽ nghĩ tới vô ...</td>\n",
       "      <td>10.0</td>\n",
       "    </tr>\n",
       "  </tbody>\n",
       "</table>\n",
       "</div>"
      ],
      "text/plain": [
       "                                       user_link     user_name  \\\n",
       "0          https://www.foody.vn/thanh-vien/taiyo         Sunny   \n",
       "1  https://www.foody.vn/thanh-vien/viola_0309_tv  Nguyên Khánh   \n",
       "2      https://www.foody.vn/thanh-vien/tuhao2509        Tú Hảo   \n",
       "3      https://www.foody.vn/thanh-vien/zip_zilip       Vy Nhật   \n",
       "4         https://www.foody.vn/thanh-vien/tien97        Tien97   \n",
       "\n",
       "                                          brand_name  \\\n",
       "0                  El Sol - Meat & Wine - Võ Thị Sáu   \n",
       "1  Busan Korean Food - Món Hàn Quốc - Đinh Tiên H...   \n",
       "2                     TocoToco Bubble Tea - Cộng Hòa   \n",
       "3  Le Castella Viet Nam - Bánh Bông Lan Đài Loan ...   \n",
       "4                      Tabletop - Boardgame & Coffee   \n",
       "\n",
       "                                          brand_link  \\\n",
       "0  https://www.foody.vn/ho-chi-minh/el-sol-meat-w...   \n",
       "1  https://www.foody.vn/ho-chi-minh/busan-korean-...   \n",
       "2  https://www.foody.vn/ho-chi-minh/tocotoco-bubb...   \n",
       "3  https://www.foody.vn/ho-chi-minh/le-castella-v...   \n",
       "4  https://www.foody.vn/ho-chi-minh/tabletop-boar...   \n",
       "\n",
       "                                      review_content  score  \n",
       "0  Quán steak hiếm hoi mà mình cực kì ưng ý từ lâ...    8.6  \n",
       "1  Vị trí dễ tìm. Giữ xe rất nhiệt tình. Dắt xe v...    7.4  \n",
       "2  Địa điểm quán dễ tìm. Không gian cũng rộng, có...    6.4  \n",
       "3  Thấy bánh này đang hot rần rần mình cũng gọi t...    7.2  \n",
       "4  Mỗi lần nghĩ tới boardgame thì sẽ nghĩ tới vô ...   10.0  "
      ]
     },
     "execution_count": 5,
     "metadata": {},
     "output_type": "execute_result"
    }
   ],
   "source": [
    "#load data\n",
    "data = pd.read_pickle('./foody review.pkl')\n",
    "data.head()"
   ]
  },
  {
   "cell_type": "code",
   "execution_count": 6,
   "metadata": {
    "collapsed": true
   },
   "outputs": [],
   "source": [
    "def string_clean(s):\n",
    "    s_lower = s.lower()\n",
    "    s_clean = \" \".join(re.findall(\"[0-9a-zaáàảãạâấầẩẫậăắằẳẵặeéèẻẽẹêếềểễệiíìỉĩịoóòỏõọôốồổỗộơớờởỡợuúùủũụưứừửữựyýỳỷỹỵđ]+\", s_lower))\n",
    "    return(s_clean)"
   ]
  },
  {
   "cell_type": "code",
   "execution_count": 7,
   "metadata": {},
   "outputs": [
    {
     "name": "stdout",
     "output_type": "stream",
     "text": [
      "CPU times: user 7.5 s, sys: 72 ms, total: 7.57 s\n",
      "Wall time: 7.57 s\n"
     ]
    }
   ],
   "source": [
    "%%time\n",
    "reviews = data[['review_content', 'score']]\n",
    "#Để cho đơn giản, giả định điểm số không nhỏ hơn 5 là tốt còn ngược lại là tệ\n",
    "reviews['score'] = reviews['score'].apply(lambda x: '__label__good' if x >= 5 else '__label__bad')\n",
    "reviews['review_content'] = reviews['review_content'].apply(lambda x: string_clean(x))"
   ]
  },
  {
   "cell_type": "code",
   "execution_count": 8,
   "metadata": {
    "collapsed": true
   },
   "outputs": [],
   "source": [
    "review_list = reviews['score'] + ' ' +  reviews['review_content']"
   ]
  },
  {
   "cell_type": "code",
   "execution_count": 9,
   "metadata": {
    "collapsed": true
   },
   "outputs": [],
   "source": [
    "##chia tập train và test\n",
    "x_train, x_test = train_test_split(review_list, test_size=0.2, random_state=42, shuffle=True)"
   ]
  },
  {
   "cell_type": "code",
   "execution_count": 10,
   "metadata": {
    "collapsed": true
   },
   "outputs": [],
   "source": [
    "#ghi dữ liệu\n",
    "train_dir = './review.train'\n",
    "x_train.to_csv(train_dir, header=None, index=False )\n",
    "\n",
    "test_dir = './review.test'\n",
    "x_test.to_csv(test_dir, header=None, index=False )"
   ]
  },
  {
   "cell_type": "code",
   "execution_count": 11,
   "metadata": {},
   "outputs": [
    {
     "name": "stdout",
     "output_type": "stream",
     "text": [
      "CPU times: user 19 s, sys: 440 ms, total: 19.4 s\n",
      "Wall time: 6.39 s\n"
     ]
    }
   ],
   "source": [
    "%%time\n",
    "#Train a classifier\n",
    "output_file = './review_model'\n",
    "classifier = fasttext.supervised(train_dir, output_file)"
   ]
  },
  {
   "cell_type": "code",
   "execution_count": 12,
   "metadata": {},
   "outputs": [
    {
     "name": "stdout",
     "output_type": "stream",
     "text": [
      "Precision: 0.9587108613373093\n",
      "Recall: 0.9587108613373093\n"
     ]
    }
   ],
   "source": [
    "# Evaluate classifier\n",
    "result = classifier.test(test_dir)\n",
    "print('Precision:', result.precision)\n",
    "print('Recall:', result.recall)"
   ]
  },
  {
   "cell_type": "markdown",
   "metadata": {},
   "source": [
    "## Thử dự đoán\n",
    "Thử dự đoán với một số review mới trong ngày của foody tại https://www.foody.vn/ha-noi#/reviews"
   ]
  },
  {
   "cell_type": "code",
   "execution_count": 15,
   "metadata": {
    "collapsed": true
   },
   "outputs": [],
   "source": [
    "def model_predict(string):\n",
    "    sentence = [string_clean(string)]\n",
    "    labels = classifier.predict_proba(sentence)\n",
    "    classs, probs = labels[0][0]\n",
    "    print(\"Label: %s; certainty: %f\" %(classs, probs))"
   ]
  },
  {
   "cell_type": "code",
   "execution_count": 16,
   "metadata": {},
   "outputs": [
    {
     "name": "stdout",
     "output_type": "stream",
     "text": [
      "Label: good; certainty: 0.970703\n"
     ]
    }
   ],
   "source": [
    "reviews = \"\"\"\n",
    "Quán của \"ông chủ hay mặc áo màu hường\" kaka cũng thấy thú vị khi có quen biết tí chút về ông chủ quán. \n",
    "Kể ra chú em nó mở hàng được 1 thời gian rồi mà hôm nay mới đặt về ăn được. \n",
    "Hôm nay đặt em nó món bún ốc chuối đậu. \n",
    "Điểm cộng của quán là chủ quán rất lắng nghe ý kiến đóng góp sản phẩm từ khách hàng. \n",
    "1 suất hết 35k nhưng khá đầy đủ và ốc khá nhiều. \n",
    "Điểm chưa được cộng là về nước dùng của ốc chuối đậu chưa được sánh( chưa chuẩn vị ốc chuối đậu) nhìn giống canh chuối đậu hơn. \n",
    "Kaka chỉ cần chỉnh xíu xíu nữa là món ăn sẽ hài hòa hơn nhé \" Ông chủ hay mặc áo màu hường\"\n",
    "\"\"\"\n",
    "\n",
    "model_predict(reviews)"
   ]
  },
  {
   "cell_type": "code",
   "execution_count": 17,
   "metadata": {},
   "outputs": [
    {
     "name": "stdout",
     "output_type": "stream",
     "text": [
      "Label: good; certainty: 0.966797\n"
     ]
    }
   ],
   "source": [
    "reviews = \"\"\"\n",
    "Tàm tạm\n",
    "Bố của ngọt, mẹ của ngọt ,70% mà rất rất ngọt. Nên ko thấy vị trà đâu 😭😭\n",
    "\"\"\"\n",
    "\n",
    "model_predict(reviews)"
   ]
  },
  {
   "cell_type": "code",
   "execution_count": 18,
   "metadata": {},
   "outputs": [
    {
     "name": "stdout",
     "output_type": "stream",
     "text": [
      "Label: bad; certainty: 0.605469\n"
     ]
    }
   ],
   "source": [
    "reviews = \"\"\"\n",
    "Sẽ không bao giờ quay lại.\n",
    "Lần đầu tiên trong cuộc đời mình sẽ review quán ăn vì trải nghiệm của mình quá đau thương. \n",
    "\n",
    "Lúc đầu khi đến quán, sau khi được giải thích là suất buffet 179k/ng thì thịt unlimited còn nấm sẽ chỉ ra 1 lần, \n",
    "bọn mình quyết định gọi 5 suất này, hồn nhiên suy nghĩ là gọi 5 suất thì sẽ có 5 đĩa nấm đi kèm. \n",
    "Nhưng không, bạn nhân viên mang ra MỘT đĩa nấm SIÊU BÉ và giải thích rằng nấm \"ra 1 lần\" tức là ra 1 đĩa cho 1 bàn. \n",
    "Mình có chụp ảnh lại đĩa nấm. \n",
    "Đĩa đó mà các bạn serve cho 5 người lớn một cách hồn nhiên như vậy thì mình cũng thấy phục các bạn ?!?!!!\n",
    "\n",
    "Đến thời điểm này, bọn mình quyết định đổi sang suất buffet 279k/ng. \n",
    "Để nói về đồ ăn, mình ko thấy dở nhưng cũng ko thấy ngon. \n",
    "Mình chỉ có ấn tượng là các bạn thiết kế bàn ngồi không rộng rãi lắm nhưng các loại đĩa đựng thức ăn và quyển menu rất to (trong khi thức ăn trong đĩa thì ít - mình thấy đây là một sự phí phạm không gian). \n",
    "Khách ngồi sắp đĩa ra bàn và mở đc quyển menu cũng hết hơi 😭 Nước lẩu mình ăn tứ xuyên thì quá mỡ nên mình ko cảm nhận được bất cứ vị gì ở bên nước còn lại nữa 😂 sau khi ăn xong thì đến ngày hôm sau mình vẫn còn ngấy... \n",
    "và điều tồi tệ nhất là trong nhóm 5 người thì có 2 người bị đau bụng. \n",
    "\"\"\"\n",
    "\n",
    "model_predict(reviews)"
   ]
  },
  {
   "cell_type": "code",
   "execution_count": 19,
   "metadata": {},
   "outputs": [
    {
     "name": "stdout",
     "output_type": "stream",
     "text": [
      "Label: bad; certainty: 0.855469\n"
     ]
    }
   ],
   "source": [
    "reviews = \"\"\"\n",
    "Trải nghiệm sâu sắc\n",
    "Hnay mình đặt 2 suất cơm tại đây. \n",
    "Đặt qua delivery now từ 11h40. \n",
    "Hẹn 12h giao hàng sau đó bị rời giờ đến 12h30 và cuối cùng là 13h30 mới nhận được 2 suất cơm này. \n",
    "Cơm canh lạnh ngắt. \n",
    "1 suất thì bị thiếu rau. 2 cốc canh cho được 1 cái thìa. 😡😡😡.  \n",
    "1 sao cũng không cho nổi\n",
    "\"\"\"\n",
    "\n",
    "model_predict(reviews)"
   ]
  },
  {
   "cell_type": "markdown",
   "metadata": {},
   "source": [
    "# Sử dụng trực tiếp fasttext trên ubuntu"
   ]
  },
  {
   "cell_type": "markdown",
   "metadata": {},
   "source": [
    "## Train model"
   ]
  },
  {
   "cell_type": "code",
   "execution_count": 40,
   "metadata": {},
   "outputs": [
    {
     "name": "stdout",
     "output_type": "stream",
     "text": [
      "Read 15M words\n",
      "Number of words:  40143\n",
      "Number of labels: 2\n",
      "Progress: 60.4%  words/sec/thread: 1663317  lr: 0.039646  loss: 0.132529  eta: 0h0m h-14m 1617214  lr: 0.099782  loss: 0.687401  eta: 0h0m 0.6%  words/sec/thread: 1651440  lr: 0.099359  loss: 0.459615  eta: 0h0m %  words/sec/thread: 1656694  lr: 0.098984  loss: 0.378140  eta: 0h0m   loss: 0.307669  eta: 0h0m %  words/sec/thread: 1665274  lr: 0.097353  loss: 0.243176  eta: 0h0m 3.0%  words/sec/thread: 1669804  lr: 0.096968  loss: 0.239554  eta: 0h0m %  words/sec/thread: 1671262  lr: 0.096569  loss: 0.236040  eta: 0h0m %  words/sec/thread: 1681351  lr: 0.095774  loss: 0.234725  eta: 0h0m 4.7%  words/sec/thread: 1686516  lr: 0.095289  loss: 0.231202  eta: 0h0m   lr: 0.094449  loss: 0.222730  eta: 0h0m 6.8%  words/sec/thread: 1694478  lr: 0.093185  loss: 0.207121  eta: 0h0m 7.6%  words/sec/thread: 1693306  lr: 0.092378  loss: 0.196325  eta: 0h0m 0.091580  loss: 0.191252  eta: 0h0m %  words/sec/thread: 1694536  lr: 0.090712  loss: 0.184282  eta: 0h0m 0m 0m   loss: 0.178147  eta: 0h0m   lr: 0.088274  loss: 0.173693  eta: 0h0m   words/sec/thread: 1693804  lr: 0.087481  loss: 0.172240  eta: 0h0m 12.9%  words/sec/thread: 1693672  lr: 0.087068  loss: 0.173008  eta: 0h0m 13.4%  words/sec/thread: 1693344  lr: 0.086621  loss: 0.172567  eta: 0h0m %  words/sec/thread: 1691953  lr: 0.086221  loss: 0.171780  eta: 0h0m 14.2%  words/sec/thread: 1691463  lr: 0.085846  loss: 0.170604  eta: 0h0m 14.6%  words/sec/thread: 1692029  lr: 0.085446  loss: 0.168591  eta: 0h0m 0.168137  eta: 0h0m 15.4%  words/sec/thread: 1691718  lr: 0.084581  loss: 0.167404  eta: 0h0m 15.8%  words/sec/thread: 1691467  lr: 0.084175  loss: 0.167380  eta: 0h0m 16.3%  words/sec/thread: 1690940  lr: 0.083739  loss: 0.167489  eta: 0h0m 16.7%  words/sec/thread: 1691064  lr: 0.083336  loss: 0.169395  eta: 0h0m 17.1%  words/sec/thread: 1690996  lr: 0.082864  loss: 0.168411  eta: 0h0m 17.5%  words/sec/thread: 1691370  lr: 0.082507  loss: 0.166606  eta: 0h0m 17.9%  words/sec/thread: 1690562  lr: 0.082095  loss: 0.168398  eta: 0h0m   lr: 0.081680  loss: 0.166405  eta: 0h0m %  words/sec/thread: 1688932  lr: 0.081276  loss: 0.166279  eta: 0h0m 19.1%  words/sec/thread: 1689370  lr: 0.080866  loss: 0.165375  eta: 0h0m 19.6%  words/sec/thread: 1687825  lr: 0.080443  loss: 0.164842  eta: 0h0m 20.0%  words/sec/thread: 1688136  lr: 0.079991  loss: 0.162927  eta: 0h0m 20.4%  words/sec/thread: 1688184  lr: 0.079570  loss: 0.162172  eta: 0h0m 1687980  lr: 0.078702  loss: 0.161011  eta: 0h0m 1687320  lr: 0.078301  loss: 0.159866  eta: 0h0m 22.1%  words/sec/thread: 1686408  lr: 0.077895  loss: 0.161272  eta: 0h0m 22.5%  words/sec/thread: 1686182  lr: 0.077495  loss: 0.160483  eta: 0h0m 22.9%  words/sec/thread: 1685338  lr: 0.077062  loss: 0.160035  eta: 0h0m 23.3%  words/sec/thread: 1683755  lr: 0.076687  loss: 0.159469  eta: 0h0m m   words/sec/thread: 1683455  lr: 0.075874  loss: 0.158136  eta: 0h0m 24.6%  words/sec/thread: 1682949  lr: 0.075436  loss: 0.157271  eta: 0h0m 0m 25.3%  words/sec/thread: 1681590  lr: 0.074680  loss: 0.156143  eta: 0h0m 25.7%  words/sec/thread: 1681550  lr: 0.074276  loss: 0.155933  eta: 0h0m 26.1%  words/sec/thread: 1681793  lr: 0.073872  loss: 0.154591  eta: 0h0m 26.6%  words/sec/thread: 1681707  lr: 0.073386  loss: 0.153522  eta: 0h0m 27.0%  words/sec/thread: 1682012  lr: 0.072980  loss: 0.152753  eta: 0h0m 27.5%  words/sec/thread: 1681915  lr: 0.072504  loss: 0.151960  eta: 0h0m 27.9%  words/sec/thread: 1681398  lr: 0.072093  loss: 0.151246  eta: 0h0m 0.150084  eta: 0h0m 28.8%  words/sec/thread: 1680566  lr: 0.071186  loss: 0.152095  eta: 0h0m 29.2%  words/sec/thread: 1679784  lr: 0.070778  loss: 0.151441  eta: 0h0m 29.6%  words/sec/thread: 1678921  lr: 0.070433  loss: 0.151282  eta: 0h0m 0.070003  loss: 0.151691  eta: 0h0m 30.4%  words/sec/thread: 1677613  lr: 0.069638  loss: 0.150862  eta: 0h0m 30.9%  words/sec/thread: 1677789  lr: 0.069141  loss: 0.150845  eta: 0h0m 31.3%  words/sec/thread: 1677595  lr: 0.068682  loss: 0.149847  eta: 0h0m   lr: 0.068200  loss: 0.148932  eta: 0h0m 32.2%  words/sec/thread: 1677416  lr: 0.067781  loss: 0.148360  eta: 0h0m %  words/sec/thread: 1677291  lr: 0.067313  loss: 0.147691  eta: 0h0m 33.2%  words/sec/thread: 1677172  lr: 0.066832  loss: 0.146662  eta: 0h0m 33.6%  words/sec/thread: 1676769  lr: 0.066385  loss: 0.146177  eta: 0h0m 34.0%  words/sec/thread: 1676589  lr: 0.066021  loss: 0.145519  eta: 0h0m %  words/sec/thread: 1676026  lr: 0.065598  loss: 0.145009  eta: 0h0m 34.9%  words/sec/thread: 1675916  lr: 0.065119  loss: 0.144578  eta: 0h0m 35.3%  words/sec/thread: 1675709  lr: 0.064737  loss: 0.145666  eta: 0h0m 35.6%  words/sec/thread: 1675506  lr: 0.064393  loss: 0.145045  eta: 0h0m 36.1%  words/sec/thread: 1675395  lr: 0.063896  loss: 0.144657  eta: 0h0m 36.5%  words/sec/thread: 1675138  lr: 0.063480  loss: 0.145081  eta: 0h0m 36.9%  words/sec/thread: 1675068  lr: 0.063136  loss: 0.144615  eta: 0h0m 37.3%  words/sec/thread: 1674890  lr: 0.062749  loss: 0.144061  eta: 0h0m 37.5%  words/sec/thread: 1674517  lr: 0.062471  loss: 0.143178  eta: 0h0m 38.0%  words/sec/thread: 1674414  lr: 0.062024  loss: 0.142849  eta: 0h0m 38.3%  words/sec/thread: 1674358  lr: 0.061685  loss: 0.142213  eta: 0h0m 38.8%  words/sec/thread: 1674482  lr: 0.061226  loss: 0.141508  eta: 0h0m 39.2%  words/sec/thread: 1674494  lr: 0.060805  loss: 0.141342  eta: 0h0m 39.5%  words/sec/thread: 1674320  lr: 0.060477  loss: 0.141494  eta: 0h0m 40.0%  words/sec/thread: 1673742  lr: 0.059965  loss: 0.141213  eta: 0h0m 40.5%  words/sec/thread: 1673589  lr: 0.059485  loss: 0.141919  eta: 0h0m 41.0%  words/sec/thread: 1673578  lr: 0.059014  loss: 0.141397  eta: 0h0m 41.4%  words/sec/thread: 1673542  lr: 0.058593  loss: 0.141700  eta: 0h0m 0.141125  eta: 0h0m 42.2%  words/sec/thread: 1673420  lr: 0.057752  loss: 0.141250  eta: 0h0m 42.7%  words/sec/thread: 1673200  lr: 0.057339  loss: 0.140500  eta: 0h0m 43.1%  words/sec/thread: 1673349  lr: 0.056949  loss: 0.140267  eta: 0h0m   words/sec/thread: 1672650  lr: 0.056543  loss: 0.139772  eta: 0h0m 43.9%  words/sec/thread: 1672167  lr: 0.056149  loss: 0.139278  eta: 0h0m   lr: 0.055768  loss: 0.139159  eta: 0h0m 44.8%  words/sec/thread: 1671989  lr: 0.055240  loss: 0.138633  eta: 0h0m 45.2%  words/sec/thread: 1671735  lr: 0.054841  loss: 0.138387  eta: 0h0m 45.6%  words/sec/thread: 1671806  lr: 0.054441  loss: 0.137664  eta: 0h0m 45.9%  words/sec/thread: 1671444  lr: 0.054063  loss: 0.137105  eta: 0h0m 46.5%  words/sec/thread: 1671570  lr: 0.053512  loss: 0.136746  eta: 0h0m 46.9%  words/sec/thread: 1671464  lr: 0.053099  loss: 0.136773  eta: 0h0m 47.3%  words/sec/thread: 1671521  lr: 0.052694  loss: 0.136346  eta: 0h0m 47.7%  words/sec/thread: 1671494  lr: 0.052283  loss: 0.136109  eta: 0h0m   eta: 0h0m 48.5%  words/sec/thread: 1671295  lr: 0.051515  loss: 0.135869  eta: 0h0m 49.0%  words/sec/thread: 1671132  lr: 0.051038  loss: 0.136122  eta: 0h0m 49.5%  words/sec/thread: 1670640  lr: 0.050546  loss: 0.135830  eta: 0h0m 49.8%  words/sec/thread: 1669699  lr: 0.050190  loss: 0.135909  eta: 0h0m 50.2%  words/sec/thread: 1668950  lr: 0.049761  loss: 0.135180  eta: 0h0m   words/sec/thread: 1668349  lr: 0.049378  loss: 0.135009  eta: 0h0m 51.1%  words/sec/thread: 1668235  lr: 0.048916  loss: 0.135285  eta: 0h0m %  words/sec/thread: 1667754  lr: 0.048536  loss: 0.135109  eta: 0h0m 52.0%  words/sec/thread: 1667592  lr: 0.048014  loss: 0.135692  eta: 0h0m 52.8%  words/sec/thread: 1666590  lr: 0.047244  loss: 0.135313  eta: 0h0m 53.2%  words/sec/thread: 1666429  lr: 0.046843  loss: 0.135210  eta: 0h0m 53.6%  words/sec/thread: 1666285  lr: 0.046433  loss: 0.134904  eta: 0h0m   eta: 0h0m 54.9%  words/sec/thread: 1666013  lr: 0.045108  loss: 0.134461  eta: 0h0m   lr: 0.044340  loss: 0.134958  eta: 0h0m 56.1%  words/sec/thread: 1664684  lr: 0.043864  loss: 0.134239  eta: 0h0m   lr: 0.043444  loss: 0.133904  eta: 0h0m 57.0%  words/sec/thread: 1664563  lr: 0.043022  loss: 0.133555  eta: 0h0m   eta: 0h0m 0h0m %  words/sec/thread: 1664032  lr: 0.041365  loss: 0.132972  eta: 0h0m 59.1%  words/sec/thread: 1663838  lr: 0.040894  loss: 0.133199  eta: 0h0m 59.5%  words/sec/thread: 1663623  lr: 0.040514  loss: 0.133129  eta: 0h0m 60.0%  words/sec/thread: 1663656  lr: 0.040045  loss: 0.132671  eta: 0h0m Progress: 100.0%  words/sec/thread: 1651389  lr: 0.000000  loss: 0.120285  eta: 0h0m 1.6%  words/sec/thread: 1663236  lr: 0.038379  loss: 0.131594  eta: 0h0m %  words/sec/thread: 1663220  lr: 0.037965  loss: 0.131167  eta: 0h0m 62.8%  words/sec/thread: 1663242  lr: 0.037153  loss: 0.130518  eta: 0h0m   eta: 0h0m 63.8%  words/sec/thread: 1663188  lr: 0.036245  loss: 0.129815  eta: 0h0m 64.2%  words/sec/thread: 1663089  lr: 0.035833  loss: 0.129291  eta: 0h0m 64.6%  words/sec/thread: 1663317  lr: 0.035406  loss: 0.129313  eta: 0h0m 65.0%  words/sec/thread: 1663129  lr: 0.035026  loss: 0.129063  eta: 0h0m   eta: 0h0m 66.2%  words/sec/thread: 1661994  lr: 0.033806  loss: 0.128299  eta: 0h0m 66.6%  words/sec/thread: 1661771  lr: 0.033386  loss: 0.128131  eta: 0h0m 67.0%  words/sec/thread: 1661483  lr: 0.033044  loss: 0.128049  eta: 0h0m 0.127844  eta: 0h0m 67.9%  words/sec/thread: 1661341  lr: 0.032138  loss: 0.127578  eta: 0h0m 68.2%  words/sec/thread: 1660872  lr: 0.031764  loss: 0.128088  eta: 0h0m 68.6%  words/sec/thread: 1660253  lr: 0.031379  loss: 0.127974  eta: 0h0m 69.1%  words/sec/thread: 1660161  lr: 0.030906  loss: 0.127837  eta: 0h0m m   lr: 0.029542  loss: 0.127428  eta: 0h0m 70.9%  words/sec/thread: 1659690  lr: 0.029104  loss: 0.127062  eta: 0h0m 71.3%  words/sec/thread: 1659348  lr: 0.028723  loss: 0.126814  eta: 0h0m 71.7%  words/sec/thread: 1659207  lr: 0.028280  loss: 0.126463  eta: 0h0m 72.1%  words/sec/thread: 1659059  lr: 0.027851  loss: 0.126455  eta: 0h0m 72.6%  words/sec/thread: 1658890  lr: 0.027436  loss: 0.127014  eta: 0h0m 73.0%  words/sec/thread: 1658901  lr: 0.026958  loss: 0.126759  eta: 0h0m 73.6%  words/sec/thread: 1658831  lr: 0.026424  loss: 0.126615  eta: 0h0m 0.026018  loss: 0.126411  eta: 0h0m 74.4%  words/sec/thread: 1658572  lr: 0.025617  loss: 0.126309  eta: 0h0m 74.9%  words/sec/thread: 1658591  lr: 0.025116  loss: 0.125997  eta: 0h0m 1658578  lr: 0.024649  loss: 0.126253  eta: 0h0m 75.8%  words/sec/thread: 1658392  lr: 0.024209  loss: 0.126076  eta: 0h0m h0m 76.7%  words/sec/thread: 1658155  lr: 0.023312  loss: 0.125502  eta: 0h0m 77.2%  words/sec/thread: 1657895  lr: 0.022825  loss: 0.125088  eta: 0h0m 77.6%  words/sec/thread: 1657632  lr: 0.022368  loss: 0.124931  eta: 0h0m 78.1%  words/sec/thread: 1657493  lr: 0.021922  loss: 0.125538  eta: 0h0m 1657149  lr: 0.021551  loss: 0.125401  eta: 0h0m 78.9%  words/sec/thread: 1657060  lr: 0.021099  loss: 0.125223  eta: 0h0m 79.4%  words/sec/thread: 1657033  lr: 0.020623  loss: 0.125640  eta: 0h0m 79.8%  words/sec/thread: 1656736  lr: 0.020172  loss: 0.125443  eta: 0h0m 80.2%  words/sec/thread: 1656486  lr: 0.019814  loss: 0.125438  eta: 0h0m 80.7%  words/sec/thread: 1656391  lr: 0.019342  loss: 0.125114  eta: 0h0m 0  loss: 0.124819  eta: 0h0m 81.5%  words/sec/thread: 1656224  lr: 0.018496  loss: 0.124749  eta: 0h0m 81.9%  words/sec/thread: 1656252  lr: 0.018062  loss: 0.124465  eta: 0h0m 0.017723  loss: 0.124085  eta: 0h0m 83.0%  words/sec/thread: 1656116  lr: 0.016993  loss: 0.123988  eta: 0h0m 0h0m   loss: 0.123859  eta: 0h0m 84.2%  words/sec/thread: 1655806  lr: 0.015792  loss: 0.123735  eta: 0h0m 84.7%  words/sec/thread: 1655804  lr: 0.015321  loss: 0.123548  eta: 0h0m 85.1%  words/sec/thread: 1655511  lr: 0.014939  loss: 0.123714  eta: 0h0m 85.5%  words/sec/thread: 1655361  lr: 0.014493  loss: 0.123473  eta: 0h0m 85.9%  words/sec/thread: 1655346  lr: 0.014069  loss: 0.123176  eta: 0h0m 86.3%  words/sec/thread: 1655445  lr: 0.013672  loss: 0.122859  eta: 0h0m 86.7%  words/sec/thread: 1655171  lr: 0.013302  loss: 0.122741  eta: 0h0m   eta: 0h0m 0.012420  loss: 0.122820  eta: 0h0m %  words/sec/thread: 1654858  lr: 0.012051  loss: 0.123113  eta: 0h0m 88.4%  words/sec/thread: 1654832  lr: 0.011629  loss: 0.123032  eta: 0h0m 88.8%  words/sec/thread: 1654798  lr: 0.011214  loss: 0.122918  eta: 0h0m 89.2%  words/sec/thread: 1654479  lr: 0.010832  loss: 0.122608  eta: 0h0m %  words/sec/thread: 1654360  lr: 0.010412  loss: 0.122250  eta: 0h0m 90.1%  words/sec/thread: 1654334  lr: 0.009936  loss: 0.121866  eta: 0h0m 90.4%  words/sec/thread: 1653926  lr: 0.009620  loss: 0.121514  eta: 0h0m 90.9%  words/sec/thread: 1653715  lr: 0.009132  loss: 0.121437  eta: 0h0m 91.3%  words/sec/thread: 1653363  lr: 0.008690  loss: 0.121091  eta: 0h0m   eta: 0h0m 92.1%  words/sec/thread: 1653163  lr: 0.007880  loss: 0.121005  eta: 0h0m 92.5%  words/sec/thread: 1652988  lr: 0.007465  loss: 0.121181  eta: 0h0m %  words/sec/thread: 1653049  lr: 0.007000  loss: 0.120833  eta: 0h0m 93.5%  words/sec/thread: 1652970  lr: 0.006540  loss: 0.120558  eta: 0h0m 93.9%  words/sec/thread: 1652911  lr: 0.006105  loss: 0.120573  eta: 0h0m h0m 94.8%  words/sec/thread: 1652748  lr: 0.005213  loss: 0.120198  eta: 0h0m 95.2%  words/sec/thread: 1652730  lr: 0.004765  loss: 0.119992  eta: 0h0m 95.6%  words/sec/thread: 1652410  lr: 0.004372  loss: 0.119655  eta: 0h0m   lr: 0.003965  loss: 0.119427  eta: 0h0m 96.5%  words/sec/thread: 1652006  lr: 0.003505  loss: 0.120017  eta: 0h0m 97.0%  words/sec/thread: 1651958  lr: 0.003038  loss: 0.119817  eta: 0h0m 1651964  lr: 0.002609  loss: 0.119617  eta: 0h0m 97.8%  words/sec/thread: 1651806  lr: 0.002188  loss: 0.119604  eta: 0h0m 98.3%  words/sec/thread: 1651846  lr: 0.001728  loss: 0.119582  eta: 0h0m 98.7%  words/sec/thread: 1651849  lr: 0.001280  loss: 0.119963  eta: 0h0m 99.1%  words/sec/thread: 1651801  lr: 0.000901  loss: 0.120023  eta: 0h0m 1651689  lr: 0.000422  loss: 0.120205  eta: 0h0m 99.9%  words/sec/thread: 1651410  lr: 0.000058  loss: 0.120201  eta: 0h0m \n",
      "CPU times: user 3.82 s, sys: 308 ms, total: 4.13 s\n",
      "Wall time: 29.5 s\n"
     ]
    }
   ],
   "source": [
    "%%time\n",
    "\n",
    "FT_HOME = './fasttext'\n",
    "folder_dir = './fasttext/'\n",
    "output = 'review_model_1'\n",
    "!{FT_HOME} supervised -input {folder_dir + 'review.train'} -output {output} -wordNgrams 2"
   ]
  },
  {
   "cell_type": "markdown",
   "metadata": {},
   "source": [
    "## Test model"
   ]
  },
  {
   "cell_type": "code",
   "execution_count": 41,
   "metadata": {},
   "outputs": [
    {
     "name": "stdout",
     "output_type": "stream",
     "text": [
      "N\t34876\r\n",
      "P@1\t0.96\r\n",
      "R@1\t0.96\r\n",
      "Number of examples: 34876\r\n"
     ]
    }
   ],
   "source": [
    "!{FT_HOME} test {folder_dir + output + '.bin'} {folder_dir + 'review.test'}"
   ]
  },
  {
   "cell_type": "markdown",
   "metadata": {},
   "source": [
    "## Thử dự đoán"
   ]
  },
  {
   "cell_type": "code",
   "execution_count": 49,
   "metadata": {
    "collapsed": true
   },
   "outputs": [],
   "source": [
    "def model_predict_1(string):\n",
    "    f = open(folder_dir + 'review_text.txt', 'w')    \n",
    "    s_clean = string_clean(string)\n",
    "    f.write(s_clean)\n",
    "    f.close()\n",
    "    !{FT_HOME} predict-prob {folder_dir + output + '.bin'} {folder_dir + 'review_text.txt'} "
   ]
  },
  {
   "cell_type": "code",
   "execution_count": 50,
   "metadata": {},
   "outputs": [
    {
     "name": "stdout",
     "output_type": "stream",
     "text": [
      "__label__good 0.96875\r\n"
     ]
    }
   ],
   "source": [
    "reviews = \"\"\"\n",
    "Quán của \"ông chủ hay mặc áo màu hường\" kaka cũng thấy thú vị khi có quen biết tí chút về ông chủ quán. \n",
    "Kể ra chú em nó mở hàng được 1 thời gian rồi mà hôm nay mới đặt về ăn được. \n",
    "Hôm nay đặt em nó món bún ốc chuối đậu. \n",
    "Điểm cộng của quán là chủ quán rất lắng nghe ý kiến đóng góp sản phẩm từ khách hàng. \n",
    "1 suất hết 35k nhưng khá đầy đủ và ốc khá nhiều. \n",
    "Điểm chưa được cộng là về nước dùng của ốc chuối đậu chưa được sánh( chưa chuẩn vị ốc chuối đậu) nhìn giống canh chuối đậu hơn. \n",
    "Kaka chỉ cần chỉnh xíu xíu nữa là món ăn sẽ hài hòa hơn nhé \" Ông chủ hay mặc áo màu hường\"\n",
    "\"\"\"\n",
    "\n",
    "model_predict_1(reviews)"
   ]
  },
  {
   "cell_type": "code",
   "execution_count": 51,
   "metadata": {},
   "outputs": [
    {
     "name": "stdout",
     "output_type": "stream",
     "text": [
      "__label__bad 0.947266\r\n"
     ]
    }
   ],
   "source": [
    "reviews = \"\"\"\n",
    "Trải nghiệm sâu sắc\n",
    "Hnay mình đặt 2 suất cơm tại đây. \n",
    "Đặt qua delivery now từ 11h40. \n",
    "Hẹn 12h giao hàng sau đó bị rời giờ đến 12h30 và cuối cùng là 13h30 mới nhận được 2 suất cơm này. \n",
    "Cơm canh lạnh ngắt. \n",
    "1 suất thì bị thiếu rau. 2 cốc canh cho được 1 cái thìa. 😡😡😡.  \n",
    "1 sao cũng không cho nổi\n",
    "\"\"\"\n",
    "\n",
    "model_predict_1(reviews)"
   ]
  }
 ],
 "metadata": {
  "kernelspec": {
   "display_name": "Python 3",
   "language": "python",
   "name": "python3"
  },
  "language_info": {
   "codemirror_mode": {
    "name": "ipython",
    "version": 3
   },
   "file_extension": ".py",
   "mimetype": "text/x-python",
   "name": "python",
   "nbconvert_exporter": "python",
   "pygments_lexer": "ipython3",
   "version": "3.6.1"
  }
 },
 "nbformat": 4,
 "nbformat_minor": 2
}
