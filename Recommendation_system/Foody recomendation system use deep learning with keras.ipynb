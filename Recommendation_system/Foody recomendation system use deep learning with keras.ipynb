{
 "cells": [
  {
   "cell_type": "markdown",
   "metadata": {},
   "source": [
    "# Recommendation system sử dụng dữ liệu của foody"
   ]
  },
  {
   "cell_type": "code",
   "execution_count": 1,
   "metadata": {},
   "outputs": [
    {
     "name": "stderr",
     "output_type": "stream",
     "text": [
      "/home/ubuntu/anaconda3/envs/tensorflow_p36/lib/python3.6/site-packages/h5py/__init__.py:36: FutureWarning: Conversion of the second argument of issubdtype from `float` to `np.floating` is deprecated. In future, it will be treated as `np.float64 == np.dtype(float).type`.\n",
      "  from ._conv import register_converters as _register_converters\n",
      "Using TensorFlow backend.\n",
      "/home/ubuntu/anaconda3/envs/tensorflow_p36/lib/python3.6/importlib/_bootstrap.py:219: RuntimeWarning: compiletime version 3.5 of module 'tensorflow.python.framework.fast_tensor_util' does not match runtime version 3.6\n",
      "  return f(*args, **kwds)\n"
     ]
    }
   ],
   "source": [
    "#library\n",
    "import pandas as pd\n",
    "import keras\n",
    "from keras import *\n",
    "from keras.layers import *\n",
    "from keras.regularizers import l2\n",
    "from keras.optimizers import Adam\n",
    "\n",
    "from sklearn.model_selection import train_test_split\n",
    "import operator"
   ]
  },
  {
   "cell_type": "markdown",
   "metadata": {},
   "source": [
    "# Đọc dữ liệu"
   ]
  },
  {
   "cell_type": "code",
   "execution_count": 2,
   "metadata": {},
   "outputs": [],
   "source": [
    "data = pd.read_pickle('foody review full.pkl')"
   ]
  },
  {
   "cell_type": "code",
   "execution_count": 3,
   "metadata": {},
   "outputs": [
    {
     "data": {
      "text/html": [
       "<div>\n",
       "<style scoped>\n",
       "    .dataframe tbody tr th:only-of-type {\n",
       "        vertical-align: middle;\n",
       "    }\n",
       "\n",
       "    .dataframe tbody tr th {\n",
       "        vertical-align: top;\n",
       "    }\n",
       "\n",
       "    .dataframe thead th {\n",
       "        text-align: right;\n",
       "    }\n",
       "</style>\n",
       "<table border=\"1\" class=\"dataframe\">\n",
       "  <thead>\n",
       "    <tr style=\"text-align: right;\">\n",
       "      <th></th>\n",
       "      <th>time</th>\n",
       "      <th>user_name</th>\n",
       "      <th>user_link</th>\n",
       "      <th>brand_name</th>\n",
       "      <th>brand_link</th>\n",
       "      <th>review_content</th>\n",
       "      <th>review_link</th>\n",
       "      <th>score</th>\n",
       "    </tr>\n",
       "  </thead>\n",
       "  <tbody>\n",
       "    <tr>\n",
       "      <th>0</th>\n",
       "      <td>14/9/2017 11:45</td>\n",
       "      <td>Sunny</td>\n",
       "      <td>https://www.foody.vn/thanh-vien/taiyo</td>\n",
       "      <td>El Sol - Meat &amp; Wine - Võ Thị Sáu</td>\n",
       "      <td>https://www.foody.vn/ho-chi-minh/el-sol-meat-w...</td>\n",
       "      <td>Quán steak hiếm hoi mà mình cực kì ưng ý từ lâ...</td>\n",
       "      <td>https://www.foody.vn/ho-chi-minh/el-sol-meat-w...</td>\n",
       "      <td>8.6</td>\n",
       "    </tr>\n",
       "    <tr>\n",
       "      <th>1</th>\n",
       "      <td>14/9/2017 11:39</td>\n",
       "      <td>Nguyên Khánh</td>\n",
       "      <td>https://www.foody.vn/thanh-vien/viola_0309_tv</td>\n",
       "      <td>Busan Korean Food - Món Hàn Quốc - Đinh Tiên H...</td>\n",
       "      <td>https://www.foody.vn/ho-chi-minh/busan-korean-...</td>\n",
       "      <td>Vị trí dễ tìm. Giữ xe rất nhiệt tình. Dắt xe v...</td>\n",
       "      <td>https://www.foody.vn/ho-chi-minh/busan-korean-...</td>\n",
       "      <td>7.4</td>\n",
       "    </tr>\n",
       "    <tr>\n",
       "      <th>2</th>\n",
       "      <td>14/9/2017 11:34</td>\n",
       "      <td>Tú Hảo</td>\n",
       "      <td>https://www.foody.vn/thanh-vien/tuhao2509</td>\n",
       "      <td>TocoToco Bubble Tea - Cộng Hòa</td>\n",
       "      <td>https://www.foody.vn/ho-chi-minh/tocotoco-bubb...</td>\n",
       "      <td>Địa điểm quán dễ tìm. Không gian cũng rộng, có...</td>\n",
       "      <td>https://www.foody.vn/ho-chi-minh/tocotoco-bubb...</td>\n",
       "      <td>6.4</td>\n",
       "    </tr>\n",
       "    <tr>\n",
       "      <th>3</th>\n",
       "      <td>14/9/2017 11:29</td>\n",
       "      <td>Vy Nhật</td>\n",
       "      <td>https://www.foody.vn/thanh-vien/zip_zilip</td>\n",
       "      <td>Le Castella Viet Nam - Bánh Bông Lan Đài Loan ...</td>\n",
       "      <td>https://www.foody.vn/ho-chi-minh/le-castella-v...</td>\n",
       "      <td>Thấy bánh này đang hot rần rần mình cũng gọi t...</td>\n",
       "      <td>https://www.foody.vn/ho-chi-minh/le-castella-v...</td>\n",
       "      <td>7.2</td>\n",
       "    </tr>\n",
       "    <tr>\n",
       "      <th>4</th>\n",
       "      <td>14/9/2017 11:26</td>\n",
       "      <td>Tien97</td>\n",
       "      <td>https://www.foody.vn/thanh-vien/tien97</td>\n",
       "      <td>Tabletop - Boardgame &amp; Coffee</td>\n",
       "      <td>https://www.foody.vn/ho-chi-minh/tabletop-boar...</td>\n",
       "      <td>Mỗi lần nghĩ tới boardgame thì sẽ nghĩ tới vô ...</td>\n",
       "      <td>https://www.foody.vn/ho-chi-minh/tabletop-boar...</td>\n",
       "      <td>10.0</td>\n",
       "    </tr>\n",
       "  </tbody>\n",
       "</table>\n",
       "</div>"
      ],
      "text/plain": [
       "              time     user_name  \\\n",
       "0  14/9/2017 11:45         Sunny   \n",
       "1  14/9/2017 11:39  Nguyên Khánh   \n",
       "2  14/9/2017 11:34        Tú Hảo   \n",
       "3  14/9/2017 11:29       Vy Nhật   \n",
       "4  14/9/2017 11:26        Tien97   \n",
       "\n",
       "                                       user_link  \\\n",
       "0          https://www.foody.vn/thanh-vien/taiyo   \n",
       "1  https://www.foody.vn/thanh-vien/viola_0309_tv   \n",
       "2      https://www.foody.vn/thanh-vien/tuhao2509   \n",
       "3      https://www.foody.vn/thanh-vien/zip_zilip   \n",
       "4         https://www.foody.vn/thanh-vien/tien97   \n",
       "\n",
       "                                          brand_name  \\\n",
       "0                  El Sol - Meat & Wine - Võ Thị Sáu   \n",
       "1  Busan Korean Food - Món Hàn Quốc - Đinh Tiên H...   \n",
       "2                     TocoToco Bubble Tea - Cộng Hòa   \n",
       "3  Le Castella Viet Nam - Bánh Bông Lan Đài Loan ...   \n",
       "4                      Tabletop - Boardgame & Coffee   \n",
       "\n",
       "                                          brand_link  \\\n",
       "0  https://www.foody.vn/ho-chi-minh/el-sol-meat-w...   \n",
       "1  https://www.foody.vn/ho-chi-minh/busan-korean-...   \n",
       "2  https://www.foody.vn/ho-chi-minh/tocotoco-bubb...   \n",
       "3  https://www.foody.vn/ho-chi-minh/le-castella-v...   \n",
       "4  https://www.foody.vn/ho-chi-minh/tabletop-boar...   \n",
       "\n",
       "                                      review_content  \\\n",
       "0  Quán steak hiếm hoi mà mình cực kì ưng ý từ lâ...   \n",
       "1  Vị trí dễ tìm. Giữ xe rất nhiệt tình. Dắt xe v...   \n",
       "2  Địa điểm quán dễ tìm. Không gian cũng rộng, có...   \n",
       "3  Thấy bánh này đang hot rần rần mình cũng gọi t...   \n",
       "4  Mỗi lần nghĩ tới boardgame thì sẽ nghĩ tới vô ...   \n",
       "\n",
       "                                         review_link  score  \n",
       "0  https://www.foody.vn/ho-chi-minh/el-sol-meat-w...    8.6  \n",
       "1  https://www.foody.vn/ho-chi-minh/busan-korean-...    7.4  \n",
       "2  https://www.foody.vn/ho-chi-minh/tocotoco-bubb...    6.4  \n",
       "3  https://www.foody.vn/ho-chi-minh/le-castella-v...    7.2  \n",
       "4  https://www.foody.vn/ho-chi-minh/tabletop-boar...   10.0  "
      ]
     },
     "execution_count": 3,
     "metadata": {},
     "output_type": "execute_result"
    }
   ],
   "source": [
    "data.head()"
   ]
  },
  {
   "cell_type": "code",
   "execution_count": 4,
   "metadata": {},
   "outputs": [
    {
     "data": {
      "text/plain": [
       "(196082, 8)"
      ]
     },
     "execution_count": 4,
     "metadata": {},
     "output_type": "execute_result"
    }
   ],
   "source": [
    "data.shape"
   ]
  },
  {
   "cell_type": "code",
   "execution_count": 5,
   "metadata": {},
   "outputs": [
    {
     "data": {
      "text/html": [
       "<div>\n",
       "<style scoped>\n",
       "    .dataframe tbody tr th:only-of-type {\n",
       "        vertical-align: middle;\n",
       "    }\n",
       "\n",
       "    .dataframe tbody tr th {\n",
       "        vertical-align: top;\n",
       "    }\n",
       "\n",
       "    .dataframe thead th {\n",
       "        text-align: right;\n",
       "    }\n",
       "</style>\n",
       "<table border=\"1\" class=\"dataframe\">\n",
       "  <thead>\n",
       "    <tr style=\"text-align: right;\">\n",
       "      <th></th>\n",
       "      <th>user</th>\n",
       "      <th>item</th>\n",
       "      <th>rating</th>\n",
       "    </tr>\n",
       "  </thead>\n",
       "  <tbody>\n",
       "    <tr>\n",
       "      <th>171512</th>\n",
       "      <td>zzzbinhyenxxx</td>\n",
       "      <td>hai-phong/secret-garden-cafe-van-cao</td>\n",
       "      <td>9.0</td>\n",
       "    </tr>\n",
       "    <tr>\n",
       "      <th>171513</th>\n",
       "      <td>zzzdesertstormzzz</td>\n",
       "      <td>da-nang/bo-ne-3-ngon</td>\n",
       "      <td>7.0</td>\n",
       "    </tr>\n",
       "    <tr>\n",
       "      <th>171514</th>\n",
       "      <td>zzzthainganzzz4197</td>\n",
       "      <td>khanh-hoa/dong-suong-banh-flan</td>\n",
       "      <td>7.8</td>\n",
       "    </tr>\n",
       "    <tr>\n",
       "      <th>171515</th>\n",
       "      <td>zzzthainganzzz4197</td>\n",
       "      <td>khanh-hoa/zodiac-station</td>\n",
       "      <td>7.6</td>\n",
       "    </tr>\n",
       "    <tr>\n",
       "      <th>171516</th>\n",
       "      <td>zzzzapplezzzz</td>\n",
       "      <td>dak-lak/thanh-phat-fastfood</td>\n",
       "      <td>4.0</td>\n",
       "    </tr>\n",
       "  </tbody>\n",
       "</table>\n",
       "</div>"
      ],
      "text/plain": [
       "                      user                                  item  rating\n",
       "171512       zzzbinhyenxxx  hai-phong/secret-garden-cafe-van-cao     9.0\n",
       "171513   zzzdesertstormzzz                  da-nang/bo-ne-3-ngon     7.0\n",
       "171514  zzzthainganzzz4197        khanh-hoa/dong-suong-banh-flan     7.8\n",
       "171515  zzzthainganzzz4197              khanh-hoa/zodiac-station     7.6\n",
       "171516       zzzzapplezzzz           dak-lak/thanh-phat-fastfood     4.0"
      ]
     },
     "execution_count": 5,
     "metadata": {},
     "output_type": "execute_result"
    }
   ],
   "source": [
    "review = pd.DataFrame(columns = ['user', 'item', 'rating'])\n",
    "review['user'] = data['user_link'].apply(lambda x: x.replace('https://www.foody.vn/thanh-vien/', ''))\n",
    "review['item'] = data['brand_link'].apply(lambda x: x.replace('https://www.foody.vn/', ''))\n",
    "review['rating'] = data['score']\n",
    "review = review.groupby(['user', 'item'], as_index=False).mean()\n",
    "review.tail()"
   ]
  },
  {
   "cell_type": "code",
   "execution_count": 6,
   "metadata": {},
   "outputs": [],
   "source": [
    "users = review.user.unique()\n",
    "items = review.item.unique()"
   ]
  },
  {
   "cell_type": "code",
   "execution_count": 7,
   "metadata": {},
   "outputs": [],
   "source": [
    "user2id = {o:i for i,o in enumerate(users)}\n",
    "item2id = {o:i for i,o in enumerate(items)}\n",
    "\n",
    "id2user = {v:k for k,v in user2id.items()}\n",
    "id2item = {v:k for k,v in item2id.items()}"
   ]
  },
  {
   "cell_type": "code",
   "execution_count": 9,
   "metadata": {},
   "outputs": [],
   "source": [
    "review['user_id'] = review.user.apply(lambda x: user2id[x])\n",
    "review['item_id'] = review.item.apply(lambda x: item2id[x])"
   ]
  },
  {
   "cell_type": "markdown",
   "metadata": {},
   "source": [
    "# Go deeper"
   ]
  },
  {
   "cell_type": "code",
   "execution_count": 19,
   "metadata": {},
   "outputs": [],
   "source": [
    "n_user = len(set(review['user']))\n",
    "n_item = len(set(review['item']))\n",
    "n_dim = 32"
   ]
  },
  {
   "cell_type": "code",
   "execution_count": 20,
   "metadata": {},
   "outputs": [],
   "source": [
    "def embedding_input(name, n_in, n_out, reg):\n",
    "    inp = Input(shape=(1,), dtype='int64', name=name)\n",
    "    return(inp, Embedding(n_in, n_out, input_length=1, embeddings_regularizer=l2(reg))(inp))"
   ]
  },
  {
   "cell_type": "code",
   "execution_count": 21,
   "metadata": {},
   "outputs": [],
   "source": [
    "user_in, u = embedding_input('user_in', n_user, n_dim, 1e-4)\n",
    "item_in, i = embedding_input('item_in', n_item, n_dim, 1e-4)"
   ]
  },
  {
   "cell_type": "code",
   "execution_count": 22,
   "metadata": {},
   "outputs": [],
   "source": [
    "x = concatenate([u, i])\n",
    "x = Flatten()(x)\n",
    "x = Dense(32, activation='relu')(x)\n",
    "x = Dense(1)(x)\n",
    "nn = Model([user_in, item_in], x)\n",
    "nn.compile(Adam(0.001), loss='mse')"
   ]
  },
  {
   "cell_type": "code",
   "execution_count": 23,
   "metadata": {},
   "outputs": [],
   "source": [
    "x_train, x_test, y_train, y_test = train_test_split(review[['user_id', 'item_id']], \n",
    "                                                    review['rating'], \n",
    "                                                    test_size=0.2, \n",
    "                                                    random_state=2018)"
   ]
  },
  {
   "cell_type": "code",
   "execution_count": 24,
   "metadata": {},
   "outputs": [
    {
     "name": "stdout",
     "output_type": "stream",
     "text": [
      "Train on 137213 samples, validate on 34304 samples\n",
      "Epoch 1/5\n",
      "137213/137213 [==============================] - 29s 208us/step - loss: 4.3441 - val_loss: 1.7699\n",
      "Epoch 2/5\n",
      "137213/137213 [==============================] - 28s 205us/step - loss: 1.4570 - val_loss: 1.8048\n",
      "Epoch 3/5\n",
      "137213/137213 [==============================] - 28s 205us/step - loss: 1.2375 - val_loss: 1.8525\n",
      "Epoch 4/5\n",
      "137213/137213 [==============================] - 28s 205us/step - loss: 1.1154 - val_loss: 1.8751\n",
      "Epoch 5/5\n",
      "137213/137213 [==============================] - 28s 205us/step - loss: 1.0441 - val_loss: 1.8619\n"
     ]
    },
    {
     "data": {
      "text/plain": [
       "<keras.callbacks.History at 0x7f4e598ebfd0>"
      ]
     },
     "execution_count": 24,
     "metadata": {},
     "output_type": "execute_result"
    }
   ],
   "source": [
    "nn.fit([x_train['user_id'], x_train['item_id']], y_train,  \n",
    "        validation_data=([x_test['user_id'],x_test['item_id']], y_test),\n",
    "        epochs=5)"
   ]
  },
  {
   "cell_type": "markdown",
   "metadata": {},
   "source": [
    "# analyze result"
   ]
  },
  {
   "cell_type": "code",
   "execution_count": 22,
   "metadata": {},
   "outputs": [],
   "source": [
    "g=review.groupby('item')['rating'].count()\n",
    "topMovies=g.sort_values(ascending=False)[:2000]\n",
    "topMovies = np.array(topMovies.index)"
   ]
  },
  {
   "cell_type": "code",
   "execution_count": 38,
   "metadata": {},
   "outputs": [
    {
     "data": {
      "text/plain": [
       "array([-0.0396055 , -0.0272544 , -0.02661224,  0.03343764, -0.03405238,\n",
       "        0.00277105, -0.00847536, -0.05375038, -0.0408016 , -0.03661374,\n",
       "       -0.03952577, -0.03494132, -0.01982155, -0.0169836 , -0.04828466,\n",
       "       -0.0629462 ,  0.03090358,  0.03404731, -0.04012905, -0.03978949,\n",
       "        0.03709898,  0.021875  ,  0.0432387 ,  0.04766003,  0.02276579,\n",
       "       -0.04310038,  0.03983262,  0.03310673, -0.01780072, -0.00828076,\n",
       "       -0.01141614, -0.03977594], dtype=float32)"
      ]
     },
     "execution_count": 38,
     "metadata": {},
     "output_type": "execute_result"
    }
   ],
   "source": [
    "#get embedding\n",
    "get_item_emb = Model(user_in, u)\n",
    "item_emb = np.squeeze(get_item_emb.predict(review['user_id'].values))\n",
    "item_emb[user2id['Ken_sunlight']]"
   ]
  },
  {
   "cell_type": "code",
   "execution_count": 45,
   "metadata": {},
   "outputs": [
    {
     "ename": "KeyError",
     "evalue": "'Sunny'",
     "output_type": "error",
     "traceback": [
      "\u001b[0;31m---------------------------------------------------------------------------\u001b[0m",
      "\u001b[0;31mKeyError\u001b[0m                                  Traceback (most recent call last)",
      "\u001b[0;32m<ipython-input-45-54efb74103d0>\u001b[0m in \u001b[0;36m<module>\u001b[0;34m()\u001b[0m\n\u001b[0;32m----> 1\u001b[0;31m \u001b[0muser2id\u001b[0m\u001b[0;34m[\u001b[0m\u001b[0;34m'Sunny'\u001b[0m\u001b[0;34m]\u001b[0m\u001b[0;34m\u001b[0m\u001b[0m\n\u001b[0m",
      "\u001b[0;31mKeyError\u001b[0m: 'Sunny'"
     ]
    }
   ],
   "source": [
    "user2id['Sunny']"
   ]
  },
  {
   "cell_type": "code",
   "execution_count": 43,
   "metadata": {},
   "outputs": [],
   "source": [
    "def recommend(user_name, location_filter = None):\n",
    "    user_id = [user2id[user_name]]\n",
    "    item_id = review[review['user'] != user_name].item_id.unique()\n",
    "    predict = {id2item[o]:i for o,i in zip(item_id, nn.predict([np.array(user_id*len(item_id)), item_id])[:,0])}\n",
    "    sorted_predict = sorted(predict.items(), key=operator.itemgetter(1), reverse=True)\n",
    "    \n",
    "    if location_filter is not None:\n",
    "        sorted_predict = [(k,v) for k,v in sorted_predict if k.startswith(location_filter)]\n",
    "    \n",
    "    return(sorted_predict[:10])"
   ]
  },
  {
   "cell_type": "code",
   "execution_count": 47,
   "metadata": {},
   "outputs": [
    {
     "data": {
      "text/plain": [
       "[('bac-ninh/nha-hang-bia-tuoi-duc-babarina-tran-phu', 9.467921),\n",
       " ('quang-ngai/uni-coffee-milk-tea-bingsu', 9.395969),\n",
       " ('lam-dong/memory-acoustic-cafe', 9.340098),\n",
       " ('lam-dong/quan-cua-thoi-thanh-xuan-cafe-khiem-thinh', 9.337423),\n",
       " ('da-nang/cheese-lover-restaurant-mon-au', 9.320055),\n",
       " ('dak-lak/bun-bo-hue-o-manh-le-duan', 9.243823),\n",
       " ('quang-binh/me-toai-hai-san-tuoi-song', 9.203854),\n",
       " ('ha-noi/buffet-poseidon-seafood-bbq-hotpot-buffet', 9.18907),\n",
       " ('hue/na-house-tiem-banh-online', 9.175727),\n",
       " ('can-tho/tra-sua-t-t', 9.170704)]"
      ]
     },
     "execution_count": 47,
     "metadata": {},
     "output_type": "execute_result"
    }
   ],
   "source": [
    "recommend(user_name = 'taiyo')"
   ]
  }
 ],
 "metadata": {
  "kernelspec": {
   "display_name": "Python [default]",
   "language": "python",
   "name": "python3"
  },
  "language_info": {
   "codemirror_mode": {
    "name": "ipython",
    "version": 3
   },
   "file_extension": ".py",
   "mimetype": "text/x-python",
   "name": "python",
   "nbconvert_exporter": "python",
   "pygments_lexer": "ipython3",
   "version": "3.6.3"
  },
  "varInspector": {
   "cols": {
    "lenName": 16,
    "lenType": 16,
    "lenVar": 40
   },
   "kernels_config": {
    "python": {
     "delete_cmd_postfix": "",
     "delete_cmd_prefix": "del ",
     "library": "var_list.py",
     "varRefreshCmd": "print(var_dic_list())"
    },
    "r": {
     "delete_cmd_postfix": ") ",
     "delete_cmd_prefix": "rm(",
     "library": "var_list.r",
     "varRefreshCmd": "cat(var_dic_list()) "
    }
   },
   "types_to_exclude": [
    "module",
    "function",
    "builtin_function_or_method",
    "instance",
    "_Feature"
   ],
   "window_display": false
  }
 },
 "nbformat": 4,
 "nbformat_minor": 2
}
