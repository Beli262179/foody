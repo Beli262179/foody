{
 "cells": [
  {
   "cell_type": "code",
   "execution_count": 119,
   "metadata": {},
   "outputs": [],
   "source": [
    "#library\n",
    "import pandas as pd\n",
    "from nltk.tokenize import word_tokenize \n",
    "from sklearn.model_selection import train_test_split\n",
    "from sklearn.linear_model import LogisticRegression\n",
    "import nltk\n",
    "import os\n",
    "import numpy as np\n",
    "from sklearn.metrics import confusion_matrix \n",
    "import pandas as pd\n",
    "from sklearn.feature_extraction.text import TfidfVectorizer, CountVectorizer, TfidfTransformer\n",
    "import gensim\n",
    "from gensim import utils\n",
    "from gensim.models import Doc2Vec\n",
    "from gensim.models.doc2vec import TaggedDocument\n",
    "\n",
    "import multiprocessing as mp\n",
    "\n",
    "from nltk.tokenize import sent_tokenize, word_tokenize\n",
    "from random import shuffle"
   ]
  },
  {
   "cell_type": "code",
   "execution_count": 187,
   "metadata": {
    "collapsed": true
   },
   "outputs": [],
   "source": [
    "import warnings\n",
    "warnings.filterwarnings('ignore')"
   ]
  },
  {
   "cell_type": "code",
   "execution_count": 3,
   "metadata": {
    "collapsed": true
   },
   "outputs": [],
   "source": [
    "#read file\n",
    "data = pd.read_pickle('.../foody review.pkl')"
   ]
  },
  {
   "cell_type": "code",
   "execution_count": 4,
   "metadata": {},
   "outputs": [
    {
     "data": {
      "text/html": [
       "<div>\n",
       "<style>\n",
       "    .dataframe thead tr:only-child th {\n",
       "        text-align: right;\n",
       "    }\n",
       "\n",
       "    .dataframe thead th {\n",
       "        text-align: left;\n",
       "    }\n",
       "\n",
       "    .dataframe tbody tr th {\n",
       "        vertical-align: top;\n",
       "    }\n",
       "</style>\n",
       "<table border=\"1\" class=\"dataframe\">\n",
       "  <thead>\n",
       "    <tr style=\"text-align: right;\">\n",
       "      <th></th>\n",
       "      <th>user_link</th>\n",
       "      <th>user_name</th>\n",
       "      <th>brand_name</th>\n",
       "      <th>brand_link</th>\n",
       "      <th>review_content</th>\n",
       "      <th>score</th>\n",
       "    </tr>\n",
       "  </thead>\n",
       "  <tbody>\n",
       "    <tr>\n",
       "      <th>0</th>\n",
       "      <td>https://www.foody.vn/thanh-vien/taiyo</td>\n",
       "      <td>Sunny</td>\n",
       "      <td>El Sol - Meat &amp; Wine - Võ Thị Sáu</td>\n",
       "      <td>https://www.foody.vn/ho-chi-minh/el-sol-meat-w...</td>\n",
       "      <td>Quán steak hiếm hoi mà mình cực kì ưng ý từ lâ...</td>\n",
       "      <td>8.6</td>\n",
       "    </tr>\n",
       "    <tr>\n",
       "      <th>1</th>\n",
       "      <td>https://www.foody.vn/thanh-vien/viola_0309_tv</td>\n",
       "      <td>Nguyên Khánh</td>\n",
       "      <td>Busan Korean Food - Món Hàn Quốc - Đinh Tiên H...</td>\n",
       "      <td>https://www.foody.vn/ho-chi-minh/busan-korean-...</td>\n",
       "      <td>Vị trí dễ tìm. Giữ xe rất nhiệt tình. Dắt xe v...</td>\n",
       "      <td>7.4</td>\n",
       "    </tr>\n",
       "    <tr>\n",
       "      <th>2</th>\n",
       "      <td>https://www.foody.vn/thanh-vien/tuhao2509</td>\n",
       "      <td>Tú Hảo</td>\n",
       "      <td>TocoToco Bubble Tea - Cộng Hòa</td>\n",
       "      <td>https://www.foody.vn/ho-chi-minh/tocotoco-bubb...</td>\n",
       "      <td>Địa điểm quán dễ tìm. Không gian cũng rộng, có...</td>\n",
       "      <td>6.4</td>\n",
       "    </tr>\n",
       "    <tr>\n",
       "      <th>3</th>\n",
       "      <td>https://www.foody.vn/thanh-vien/zip_zilip</td>\n",
       "      <td>Vy Nhật</td>\n",
       "      <td>Le Castella Viet Nam - Bánh Bông Lan Đài Loan ...</td>\n",
       "      <td>https://www.foody.vn/ho-chi-minh/le-castella-v...</td>\n",
       "      <td>Thấy bánh này đang hot rần rần mình cũng gọi t...</td>\n",
       "      <td>7.2</td>\n",
       "    </tr>\n",
       "    <tr>\n",
       "      <th>4</th>\n",
       "      <td>https://www.foody.vn/thanh-vien/tien97</td>\n",
       "      <td>Tien97</td>\n",
       "      <td>Tabletop - Boardgame &amp; Coffee</td>\n",
       "      <td>https://www.foody.vn/ho-chi-minh/tabletop-boar...</td>\n",
       "      <td>Mỗi lần nghĩ tới boardgame thì sẽ nghĩ tới vô ...</td>\n",
       "      <td>10.0</td>\n",
       "    </tr>\n",
       "  </tbody>\n",
       "</table>\n",
       "</div>"
      ],
      "text/plain": [
       "                                       user_link     user_name  \\\n",
       "0          https://www.foody.vn/thanh-vien/taiyo         Sunny   \n",
       "1  https://www.foody.vn/thanh-vien/viola_0309_tv  Nguyên Khánh   \n",
       "2      https://www.foody.vn/thanh-vien/tuhao2509        Tú Hảo   \n",
       "3      https://www.foody.vn/thanh-vien/zip_zilip       Vy Nhật   \n",
       "4         https://www.foody.vn/thanh-vien/tien97        Tien97   \n",
       "\n",
       "                                          brand_name  \\\n",
       "0                  El Sol - Meat & Wine - Võ Thị Sáu   \n",
       "1  Busan Korean Food - Món Hàn Quốc - Đinh Tiên H...   \n",
       "2                     TocoToco Bubble Tea - Cộng Hòa   \n",
       "3  Le Castella Viet Nam - Bánh Bông Lan Đài Loan ...   \n",
       "4                      Tabletop - Boardgame & Coffee   \n",
       "\n",
       "                                          brand_link  \\\n",
       "0  https://www.foody.vn/ho-chi-minh/el-sol-meat-w...   \n",
       "1  https://www.foody.vn/ho-chi-minh/busan-korean-...   \n",
       "2  https://www.foody.vn/ho-chi-minh/tocotoco-bubb...   \n",
       "3  https://www.foody.vn/ho-chi-minh/le-castella-v...   \n",
       "4  https://www.foody.vn/ho-chi-minh/tabletop-boar...   \n",
       "\n",
       "                                      review_content  score  \n",
       "0  Quán steak hiếm hoi mà mình cực kì ưng ý từ lâ...    8.6  \n",
       "1  Vị trí dễ tìm. Giữ xe rất nhiệt tình. Dắt xe v...    7.4  \n",
       "2  Địa điểm quán dễ tìm. Không gian cũng rộng, có...    6.4  \n",
       "3  Thấy bánh này đang hot rần rần mình cũng gọi t...    7.2  \n",
       "4  Mỗi lần nghĩ tới boardgame thì sẽ nghĩ tới vô ...   10.0  "
      ]
     },
     "execution_count": 4,
     "metadata": {},
     "output_type": "execute_result"
    }
   ],
   "source": [
    "#xem qua dữ liệu\n",
    "data.head()"
   ]
  },
  {
   "cell_type": "code",
   "execution_count": 5,
   "metadata": {},
   "outputs": [
    {
     "data": {
      "text/plain": [
       "(174379, 6)"
      ]
     },
     "execution_count": 5,
     "metadata": {},
     "output_type": "execute_result"
    }
   ],
   "source": [
    "data.shape"
   ]
  },
  {
   "cell_type": "markdown",
   "metadata": {},
   "source": [
    "# Làm sạch dữ liệu"
   ]
  },
  {
   "cell_type": "code",
   "execution_count": 58,
   "metadata": {
    "collapsed": true
   },
   "outputs": [],
   "source": [
    "#remove punctutaiton fuction\n",
    "import string\n",
    "punc = string.punctuation\n",
    "def remove_punc(s):\n",
    "    return(s.translate(str.maketrans('','',string.punctuation)).lower())"
   ]
  },
  {
   "cell_type": "code",
   "execution_count": 188,
   "metadata": {},
   "outputs": [],
   "source": [
    "reviews = data[['review_content', 'score']]\n",
    "#Để cho đơn giản, giả định điểm số không nhỏ hơn 5 là tốt còn ngược lại là tệ\n",
    "reviews['score'] = reviews['score'].apply(lambda x: 'good' if x >= 5 else 'bad')\n",
    "reviews['review_content'] = reviews['review_content'].map(lambda x: remove_punc(x).lower())"
   ]
  },
  {
   "cell_type": "code",
   "execution_count": 189,
   "metadata": {},
   "outputs": [
    {
     "data": {
      "text/html": [
       "<div>\n",
       "<style>\n",
       "    .dataframe thead tr:only-child th {\n",
       "        text-align: right;\n",
       "    }\n",
       "\n",
       "    .dataframe thead th {\n",
       "        text-align: left;\n",
       "    }\n",
       "\n",
       "    .dataframe tbody tr th {\n",
       "        vertical-align: top;\n",
       "    }\n",
       "</style>\n",
       "<table border=\"1\" class=\"dataframe\">\n",
       "  <thead>\n",
       "    <tr style=\"text-align: right;\">\n",
       "      <th></th>\n",
       "      <th>review_content</th>\n",
       "      <th>score</th>\n",
       "    </tr>\n",
       "  </thead>\n",
       "  <tbody>\n",
       "    <tr>\n",
       "      <th>0</th>\n",
       "      <td>quán steak hiếm hoi mà mình cực kì ưng ý từ lâ...</td>\n",
       "      <td>good</td>\n",
       "    </tr>\n",
       "    <tr>\n",
       "      <th>1</th>\n",
       "      <td>vị trí dễ tìm giữ xe rất nhiệt tình dắt xe vào...</td>\n",
       "      <td>good</td>\n",
       "    </tr>\n",
       "    <tr>\n",
       "      <th>2</th>\n",
       "      <td>địa điểm quán dễ tìm không gian cũng rộng có l...</td>\n",
       "      <td>good</td>\n",
       "    </tr>\n",
       "    <tr>\n",
       "      <th>3</th>\n",
       "      <td>thấy bánh này đang hot rần rần mình cũng gọi t...</td>\n",
       "      <td>good</td>\n",
       "    </tr>\n",
       "    <tr>\n",
       "      <th>4</th>\n",
       "      <td>mỗi lần nghĩ tới boardgame thì sẽ nghĩ tới vô ...</td>\n",
       "      <td>good</td>\n",
       "    </tr>\n",
       "    <tr>\n",
       "      <th>5</th>\n",
       "      <td>hôm bữa mình và bạn vô đây ăn gọi 2 phần nướng...</td>\n",
       "      <td>good</td>\n",
       "    </tr>\n",
       "    <tr>\n",
       "      <th>6</th>\n",
       "      <td>69k của tụi mình 2 bánh lớn 2 ly trà sữa 1 lớn...</td>\n",
       "      <td>good</td>\n",
       "    </tr>\n",
       "    <tr>\n",
       "      <th>7</th>\n",
       "      <td>trà sữa koi phải nói là quá ngon xuất sắc lun ...</td>\n",
       "      <td>good</td>\n",
       "    </tr>\n",
       "    <tr>\n",
       "      <th>8</th>\n",
       "      <td>bạn muốn giết thời gian  bạn chán những lúc hẹ...</td>\n",
       "      <td>good</td>\n",
       "    </tr>\n",
       "    <tr>\n",
       "      <th>9</th>\n",
       "      <td>quán nhiều game vô cùng nhân viên nhiệt tình n...</td>\n",
       "      <td>good</td>\n",
       "    </tr>\n",
       "  </tbody>\n",
       "</table>\n",
       "</div>"
      ],
      "text/plain": [
       "                                      review_content score\n",
       "0  quán steak hiếm hoi mà mình cực kì ưng ý từ lâ...  good\n",
       "1  vị trí dễ tìm giữ xe rất nhiệt tình dắt xe vào...  good\n",
       "2  địa điểm quán dễ tìm không gian cũng rộng có l...  good\n",
       "3  thấy bánh này đang hot rần rần mình cũng gọi t...  good\n",
       "4  mỗi lần nghĩ tới boardgame thì sẽ nghĩ tới vô ...  good\n",
       "5  hôm bữa mình và bạn vô đây ăn gọi 2 phần nướng...  good\n",
       "6  69k của tụi mình 2 bánh lớn 2 ly trà sữa 1 lớn...  good\n",
       "7  trà sữa koi phải nói là quá ngon xuất sắc lun ...  good\n",
       "8  bạn muốn giết thời gian  bạn chán những lúc hẹ...  good\n",
       "9  quán nhiều game vô cùng nhân viên nhiệt tình n...  good"
      ]
     },
     "execution_count": 189,
     "metadata": {},
     "output_type": "execute_result"
    }
   ],
   "source": [
    "#reset index\n",
    "reviews = reviews.reset_index(drop=True)\n",
    "reviews.head(10)"
   ]
  },
  {
   "cell_type": "markdown",
   "metadata": {},
   "source": [
    "# Sử dụng TF-IDF"
   ]
  },
  {
   "cell_type": "code",
   "execution_count": 190,
   "metadata": {},
   "outputs": [],
   "source": [
    "#train and test split\n",
    "x_train, x_test, y_train, y_test = train_test_split(reviews['review_content'], reviews['score'], test_size=0.2, random_state=42)"
   ]
  },
  {
   "cell_type": "code",
   "execution_count": 191,
   "metadata": {
    "collapsed": true
   },
   "outputs": [],
   "source": [
    "#Vectorize sử dụng TF-IDF\n",
    "vectorizer = TfidfVectorizer(use_idf=True)\n",
    "train_tfidf = vectorizer.fit_transform(x_train)\n",
    "test_tfidf = vectorizer.transform(x_test)"
   ]
  },
  {
   "cell_type": "code",
   "execution_count": 192,
   "metadata": {},
   "outputs": [
    {
     "data": {
      "text/plain": [
       "LogisticRegression(C=1.0, class_weight=None, dual=False, fit_intercept=True,\n",
       "          intercept_scaling=1, max_iter=100, multi_class='ovr', n_jobs=1,\n",
       "          penalty='l2', random_state=None, solver='liblinear', tol=0.0001,\n",
       "          verbose=0, warm_start=False)"
      ]
     },
     "execution_count": 192,
     "metadata": {},
     "output_type": "execute_result"
    }
   ],
   "source": [
    "#train model using logistic regression\n",
    "logistic = LogisticRegression()\n",
    "logistic.fit(train_tfidf , y_train)"
   ]
  },
  {
   "cell_type": "code",
   "execution_count": 193,
   "metadata": {},
   "outputs": [
    {
     "name": "stdout",
     "output_type": "stream",
     "text": [
      "[[  804  1168]\n",
      " [  273 32631]]\n"
     ]
    }
   ],
   "source": [
    "# Đánh giá kết quả mô hình\n",
    "\n",
    "\"\"\"\n",
    "\t\tNegative\tPositive\n",
    "Negative \tx\t\t  x\n",
    "Positive \tx\t\t  x\n",
    "\"\"\"\n",
    "\n",
    "result = logistic.predict(test_tfidf)\n",
    "print(confusion_matrix(y_test,result))"
   ]
  },
  {
   "cell_type": "markdown",
   "metadata": {},
   "source": [
    "## Xem qua một số trường hợp dự đoán nhầm"
   ]
  },
  {
   "cell_type": "code",
   "execution_count": 194,
   "metadata": {},
   "outputs": [
    {
     "name": "stdout",
     "output_type": "stream",
     "text": [
      "lừa đảo\n",
      "\n",
      "vào cả chục lần vẫn bảo đang bận không thể đặt được bánh làm ăn vậy sao mà lấu dài được nếu ko co bánh để đáp ứng được cho chương trình thì đừng chạy chương trình khuyến mãi treo đầu dê bán thịt chó nản ko thèm mua nữa \n",
      "\n",
      "Actual: bad\n",
      "Predicted:  good \n",
      "\n",
      "kimbap fc\n",
      "\n",
      "quán nằm trong hẻm cũng dễ tìm nhưng mình thấy k ngon mình kêu 1 phần gà phomai gà nhạt ăn như gà kho mì đen  rất nhạt ăn như không vị tô mì chỉ có mì và dưa leo sợi k nên gọi món này 1 soup bánh cá món này ngon thứ 2 trong các món mình gọi ăn the the chứ k cay đậm đà có thêm 2 con nghêu nữa  1 kimpap thịt chiên cuốn chặt tay món này ngon nhất nè kim chi thì chua nhưng ăn cũng ổn \n",
      "\n",
      "Actual: bad\n",
      "Predicted:  good \n",
      "\n",
      "bún mắm  giả điếc\n",
      "\n",
      "hôm nay mình mới đi ăn về và mình tức anh ách ấy mọi người ạ mình dẫn bạn bè tới đây ăn tổng cộng 5 người 1 anh trong nhóm gọi trước 1 tô thập cẩm mình thì tô bình thường còn mọi người vẫn chưa kịp gọi mà bà con của bà thuyên này đã lanh chanh quất cho 5 tô đặc biệt hết mình dẫn mọi người đi ăn không lẽ mình sừng cồ lên với bả thôi thì đành chấp nhận\n",
      "mà tô bình thường 22k nha tô đặc biệt là tô gì mọi người biết không  y chang tô bình thương thêm 3 miếng thịt nữa quất lên 1 tô 35k hội mình thêm 2 chai nước nữa lúc tính tiền hết 203k ăn xong đám bạn mình vừa chê dở vừa trêu mình bị khùng hay sau dẫn cái quán  bán dở chỉ được cái mắc \n",
      "mà mình thì thường xuyên ăn ở đây  nhân viên quán cũng hay giả điếc kiểu mắc cười lắm \n",
      "vd họ bảo cho nhìu bún thì ý khách sẽ là cho nhìu bún gia giảm cho ít rau cỏ lại vậy thôi nhưng người bán ở đây quất luôn 1 lần 5 ngàn bún thêm cho họ ăn trào máu họng hay sao ko biết cái quán gì mà đắt xắt ra miếng luôn vậy đó\n",
      " \n",
      "\n",
      "Actual: bad\n",
      "Predicted:  good \n",
      "\n",
      "thất vọng vì thái độ phục vụ\n",
      "\n",
      "mình có ăn ở đây 2 lần lần đầu thì khá là ok có cơm đậu đen rất ngon mà giá cả cũng hợp lý nhưng lần thứ 2 thì mình khó chịu thực sự với sự phục vụ của nhân viên nhân viên rất chậm gọi mãi không thấy bê đồ lên mình gọi 5 lần 7 lượt không thấy mà thái độ thì cứ thờ ơ với khách cuối cùng chờ lâu quá mình gọi thanh toán luôn vừa đói vừa bực mà bây giờ cũng không còn cơm đậu chỉ còn cơm trắng bình thường thôi nên không còn muốn quay lại bất cứ lần nào nữa \n",
      "\n",
      "Actual: bad\n",
      "Predicted:  good \n",
      "\n",
      "han cook cafe  food\n",
      "\n",
      "quán phục vụ chậmmấy anh quản lí xử lí yêu cầu của khách chậmm gọi kimbap nhưng chẳng cho nước chấm gì ăn kèmgọi menu km thì quản lí nhầm lẫn giờ km \n",
      "\n",
      "Actual: bad\n",
      "Predicted:  good \n",
      "\n",
      "cơm viên  đình ngang\n",
      "\n",
      "lần đầu tiên ăn cơm của cửa hàng lại là dc mua về nên chưa biết dc không gian quán như thế nào riêng về cơm xa xíu rất ngon lúc đầu nhìn thoáng qua mình tưởng chỉ có cơm với thịt nhưng đoán ra còn có rau dưa và 1 bát canh cải riêng canh cải ngon vừa với khẩu vị của mịnd ăn suất này với mình no căng 58ksuất cơm xá xíu nhưng mình chưa biết giá các loại khác sẽ ra sao nếu có cơ hội sẽ thử thêm khi đến quán để xem cả không gian nữa \n",
      "\n",
      "Actual: bad\n",
      "Predicted:  good \n",
      "\n",
      "the coffee house  hoàng minh thảo\n",
      "\n",
      "lần đầu đến quán vào buổi tối mình thấy k thích lắm từ ngay chỗ để xe mình k thấy có bảo vệ hay nv trông xe nào cả xe mỗi người để 1 kiểu mình vào hỏi nv là có cần khóa xe k thì nv bảo không chị ạ và cũng không giải thích gì thêm làm mình cứ ngó nghiêng cả buổi và có cảm giác k yên tâm \n",
      "tầng 1 hôm nay mình đến thì quán ko bật điều hòa nên khá bí và nóng lại ồn nên mình lên tầng 2 ngồi tầng 2 thì ko có quạt và điều hòa chắc do giao mùa nên quán k cắm quạt mình ngồi thấy khá nóng và bị muỗi ăn thịt huhu 3 bàn ngồi cùng mình khách cũng đều kêu muỗi quá\n",
      "về đồ uống thì mình gọi hồng trà lựu như ảnh thấy khá ổn nhưng không có trang trí gì thêm còn bạn mình gọi trà cúc hoa nhài thì nhạt quá  không có vị gì mấy và nhìn cốc trông hơi chán mình nghĩ quán nên đầu tư thêm khoản trang trí đồ uống  về menu mình thấy k có gì đặc biệt\n",
      "mình có nhờ nhân viên mang thêm 1 cốc nước lọc nhưng em ấy không mang lên  giá thì mình thấy so với chất lượng là đắt\n",
      " \n",
      "\n",
      "Actual: bad\n",
      "Predicted:  good \n",
      "\n",
      "đông và chất lượng xuống lắm rồi\n",
      "\n",
      "quán nay dời về 16b hay mấy mình k nhớ rõ ngay góc ngã 3 khang trang và đỡ dơ hơn quán cũ nhưng rất đông ngồi hoài mới có người dọn và đem mắm chứ k có chén đũa j cả gọi lẩu thì nước lẩu dẻo nhẹo và ngọt khiếp cả nhóm k ăn nổi cá thì tanh và dở lắm mấy món bò và cơm mì thì rất ít cũng k có j đặc sắc k hiểu sao quán đông ghê đợi tính tiền cũng lâu luôn gọi thêm lẩu thái thì hết cũng k báo làm cả hội ngồi chờ mệt xỉu thề k quay lại \n",
      "\n",
      "Actual: bad\n",
      "Predicted:  good \n",
      "\n",
      "điêu coffee\n",
      "\n",
      "chính xác là đến quán này đúng một lần lúc đó là vào buổi trưa mình và bạn mình cùng vào phải công nhận là quán đẹp mát vì có máy lạnh nhưng điều mình thật sự không thích là vì quán đó cho hút shisa lại là trong phòng kín nên khi vào mình và bạn đã không thể chịu nổi và yêu cầu quán đổi nước đem về theo cá nhân vì mình chỉ uống một lần mình cho là nước không ngon và khá đắt tiền mình đi đã hơn tháng rồi mong là quán đã có sự thay đổi \n",
      "\n",
      "Actual: bad\n",
      "Predicted:  good \n",
      "\n"
     ]
    }
   ],
   "source": [
    "# Nhận nhầm thành nhận xét tốt\n",
    "for i in range(200):\n",
    "    if result[i] == 'good':\n",
    "        if result[i] != y_test.values[i]:\n",
    "            print(x_test.values[i], '\\n')\n",
    "            print('Actual:', y_test.values[i])\n",
    "            print('Predicted: ',result[i], '\\n')"
   ]
  },
  {
   "cell_type": "markdown",
   "metadata": {},
   "source": [
    "Có thể thấy vấn đề phần nhiều là do thái độ phục vụ"
   ]
  },
  {
   "cell_type": "code",
   "execution_count": 195,
   "metadata": {},
   "outputs": [
    {
     "name": "stdout",
     "output_type": "stream",
     "text": [
      "cuốn n roll restaurant  bà triệu\n",
      "\n",
      "đồ ăn khá được đa dạng nhiều món cuốn điểm trừ là nhân viên quá kém không được đào tạo tử tế\n",
      "1 mình gọi đồ ăn nhưng nhân viên quên ko order bếp chờ lâu quá mình yêu cầu nhân viên mang nước chấm cho mình trước em nhân viên nghe xong ngoảy mông đi và buông câu đã có đồ ăn đâu mà đòi nước chấm wtf 😡😡😡 cáu tập 1\n",
      "2 rau rửa quá bẩn mình gọi em nhân viên phục vụ ra vẫn là em đó mình chỉ cái rau bẩn cho em em không nhìn ra và hỏi lại với vẻ khó chịu sao ah chị sau đó mình bảo rau nhà em rửa bẩn quá không một lời xin lỗi em bê luôn đĩa rau đi sau đó mang cho mình 1 khay rau khác vẫn không một lời xin lỗi cáu tập 2\n",
      "cáu tập 3 trông xe viết phấn lên yên xe khách nhưng không có giẻ lau đi mình phải lôi giấy trong cốp hì hụi lau đi trông xe thản nhiên đứng nhìn\n",
      "xin lỗi nhưng ăn có được đến mấy thì lần sau cũng không quay lại\n",
      " \n",
      "\n",
      "Actual: good\n",
      "Predicted:  bad \n",
      "\n",
      "cafe\n",
      "\n",
      "không gian quán rất ok và thoáng mát nhưng mà pha chế nước thì dở tệ giá cả thì ko rẻ \n",
      "\n",
      "Actual: good\n",
      "Predicted:  bad \n",
      "\n",
      "càng ngày càng tệ\n",
      "\n",
      "quán gần nhà trước hay ăn mà từ ngày có bán deal cảm giác dở dở\n",
      "càng ăn càng tệ giá thì tăng mà chất lượng lại đi xuống trà sữa giờ chuyển qua loại màu xanh lè nhìn như hóa chất chỉ được cái sạch sẽ \n",
      "\n",
      "Actual: good\n",
      "Predicted:  bad \n",
      "\n",
      "không gian ok đồ ăn và phục vụ phải xem lại\n",
      "\n",
      "mình vừa cùng 2 bạn nữa đến ăn quán này quán ghi là phục vụ từ 11h trưa nhưng đợi đến 12h mới quạt xong than  đồ ăn có thể lấy thoải mái nhưng mà hết rồi chủ quán không châm thêm vào quầy lấy thức ăn nữa ặc ặc mỗi lần lấy đồ ăn chị chủ nhìn có vẻ rất khó chịu và tò mò sò nướng 10 con có đến hơn phân nữa là vỏ mình cũng không hiểu là sao nữa túm lại ăn tẹt ga nhưng đồ ăn ko tươi phục vụ kém nước ngọt chai mà tính giá đến 15k nước chấm dở mình đã đến 1 lần và chắc chắn ko ghé lại lần sau \n",
      "\n",
      "Actual: good\n",
      "Predicted:  bad \n",
      "\n",
      "trà sữa pha không đều tay không có vị trà\n",
      "\n",
      "nói thật nếu không có chương trình khuyến mãi mua 1 tặng 1 của meetee mình không mua nữa đâu có hôm thì trà ngọt ngay có hôm nhạt như không có đường ấy không hiểu tụi nhân viên nó giỡn hớt với nhau cho đã rồi quên bỏ đường cho mình hay sao ấy đó giờ mình uống trà sữa không khó tính toàn gọi đường đá bình thường ấy mà mỗi lần uống độ ngọt cứ thay đổi khác nhau rất rất bực mình không gian thì không quá đẹp trà sữa panda uống được matcha cheese macchiato mình không chuộng tí nào trà sữa lài ôi thôi cái mùi nó fake kinh khủng cũng chả có tí vị trà chè xueshan lạt nhách bỏ hết sữa đặc vào rồi đó kêu cho li trà đá thì nhân viên nói ở đây không có trà đá thế là cả bọn đành uống trà sữa xong khát nước gần chết luôn lần sau mình đi chi nhánh bên ng thái học mới phát hiện là ở đây có cho nước lọc thêm để uống vậy mà nhân viên bên cao thắng chỉ trả lời không có trà đá rồi bỏ đi luôn trời đất nó làm công ăn lương đó mà làm kiểu láo lếu vậy chi không biết giá cũng không thấp mà sao chất lượng với dịch vụ kì quá vậy trời\n",
      " \n",
      "\n",
      "Actual: good\n",
      "Predicted:  bad \n",
      "\n",
      "bánh canh ghẹ út còi\n",
      "\n",
      "mình đến ăn thử đúng 1 lần cùng người yêu vào nhân viên gợi í gọi 2 bát đặt biệt cùng 2 cốc nha đam lúc ra tính tiền 210k hơi bất ngờ vì giá \n",
      "\n",
      "nước dùng sệt sệt ngọt ngọt ăn 1 bát là ngấy nc quá bt với giá như vậy chắc ko quay lại lần sau \n",
      "\n",
      "Actual: good\n",
      "Predicted:  bad \n",
      "\n"
     ]
    }
   ],
   "source": [
    "# Nhận nhầm thành nhận xét kém\n",
    "for i in range(600):\n",
    "    if result[i] == 'bad':\n",
    "        if result[i] != y_test.values[i]:\n",
    "            print(x_test.values[i], '\\n')\n",
    "            print('Actual:', y_test.values[i])\n",
    "            print('Predicted: ',result[i], '\\n')"
   ]
  },
  {
   "cell_type": "markdown",
   "metadata": {},
   "source": [
    "Nhãn được dự đoán có vẻ chính xác hơn so với nhãn thực tế. Điều này một phần do điểm số ban đầu là trung bình cộng của 5 yếu tố vị trí, giá cả, chất lượng, phục vụ, không gian. Vì vậy nếu khách hàng chỉ không hài lòng ở một yếu tố nhưng những yếu tố còn lại vẫn tốt thì điểm số trung bình vẫn sẽ cao."
   ]
  },
  {
   "cell_type": "markdown",
   "metadata": {},
   "source": [
    "# Sử dụng doc2vec"
   ]
  },
  {
   "cell_type": "markdown",
   "metadata": {},
   "source": [
    "## Gán nhãn cho từng câu"
   ]
  },
  {
   "cell_type": "code",
   "execution_count": 146,
   "metadata": {
    "scrolled": false
   },
   "outputs": [],
   "source": [
    "review_label = list()\n",
    "for index, row in reviews.iterrows():\n",
    "    review_label.append(gensim.models.doc2vec.TaggedDocument(word_tokenize(reviews['review_content'][index]),\n",
    "                                                             ['review_' + str(index)]))"
   ]
  },
  {
   "cell_type": "code",
   "execution_count": 147,
   "metadata": {},
   "outputs": [
    {
     "data": {
      "text/plain": [
       "[TaggedDocument(words=['quán', 'steak', 'hiếm', 'hoi', 'mà', 'mình', 'cực', 'kì', 'ưng', 'ý', 'từ', 'lâu', 'nay', 'khi', 'quán', 'bên', 'nguyễn', 'siêu', 'bữa', 'nay', 'đi', 'thử', 'chi', 'nhánh', 'bên', 'võ', 'thị', 'sáu', 'mà', 'ưng', 'quá', 'quán', 'nằm', 'trong', 'hẻm', 'xe', 'hơi', 'hướng', 'võ', 'thị', 'sáu', '1', 'chiều', 'mình', 'đi', 'hai', 'bà', 'trưng', 'quẹo', 'xuống', 'hẻm', 'nằm', 'gần', 'quán', 'cafe', 'higland', 'nên', 'dễ', 'tìm', 'lắm', 'quán', 'có', 'bảng', 'hiệu', 'khá', 'nhỏ', 'nhưng', 'do', 'hẻm', 'cụt', 'nên', 'cũng', 'dễ', 'nhận', 'biết', 'quán', 'phục', 'vụ', 'niềm', 'nở', 'chào', 'đón', 'và', 'phục', 'vụ', 'chu', 'đáo', 'nói', 'tới', 'phần', 'thức', 'ăn', 'mình', 'gọi', 'mac', 'cheese', 'béo', 'ngập', 'phô', 'mai', '2', 'phần', 'thịt', 'steak', 'tendeloin', 'achentina', 'và', 'striploin', '200g', 'kèm', 'salad', 'phô', 'mai', 'phải', 'nói', 'là', 'rất', 'hài', 'lòng', 'vì', 'thịt', 'mềm', 'và', 'juicy', 'lắm', 'thêm', 'cái', 'khoản', 'tendeloin', 'nên', 'bò', 'mềm', 'phải', 'biết', 'nha', 'giá', 'steak', 'khá', 'tốt', 'ko', 'quá', 'mắc', 'so', 'với', 'các', 'nhà', 'hàng', 'steak', 'nổi', 'tiếng', 'và', 'sang', 'chảnh', 'nhưng', 'steak', 'về', 'chất', 'lượng', 'thì', 'mình', 'ko', 'bàn', 'cãi', 'nhiều', 'hi', 'vọng', 'quán', 'vẫn', 'giữ', 'phong', 'độ', 'và', 'chất', 'lượng', 'nha'], tags=['review_0']),\n",
       " TaggedDocument(words=['vị', 'trí', 'dễ', 'tìm', 'giữ', 'xe', 'rất', 'nhiệt', 'tình', 'dắt', 'xe', 'vào', 'ra', 'cho', 'khách', 'mình', 'đi', '3', 'người', 'gọi', '4', 'món', 'lúc', 'đầu', 'mình', 'có', 'gọi', 'món', 'gà', 'nhưng', 'đột', 'nhiên', 'cúp', 'điện', 'nhân', 'viên', 'nói', 'với', 'mình', 'là', 'cúp', 'điện', 'nên', 'không', 'chiên', 'gà', 'được', 'vậy', 'nên', 'mình', 'đổi', 'sáng', 'xiên', 'chả', 'cá', 'vì', 'cúp', 'điện', 'nên', 'nhân', 'viên', 'đốt', 'nến', 'không', 'hiểu', 'sao', 'lại', 'thấy', 'khá', 'là', 'lãng', 'mạn', 'nhưng', 'hơi', 'nóng', 'mình', 'rất', 'thích', 'ăn', 'món', 'ăn', 'kèm', 'là', 'cá', 'cơm', 'nhưng', 'quán', 'bảo', 'hết', 'rồi', 'hơi', 'buồn', 'nhưng', 'bù', 'lại', 'món', 'ăn', 'cũng', 'khá', 'vừa', 'miệng', 'kim', 'chi', 'ngon', 'không', 'nồng', 'như', 'những', 'quán', 'khác', 'trứng', 'đại', 'bát', 'thì', 'thơm', 'dễ', 'ăn', 'xiên', 'chả', 'cá', 'mình', 'không', 'thích', 'lắm', 'thấy', 'thành', 'phần', 'là', 'bột', 'nhiều', 'hơn', 'cá', 'không', 'thấy', 'vị', 'cá', 'đâu', 'ăn', 'không', 'dai', 'nói', 'chung', 'là', 'món', 'ăn', 'vừa', 'miệng', 'trừ', 'chả', 'cá', 'nhân', 'viên', 'nhiệt', 'tình', 'giá', 'cả', 'phải', 'chăng', 'sẽ', 'ghé', 'lại', 'và', 'thử', 'nhiều', 'món', 'khác'], tags=['review_1']),\n",
       " TaggedDocument(words=['địa', 'điểm', 'quán', 'dễ', 'tìm', 'không', 'gian', 'cũng', 'rộng', 'có', 'lầu', 'view', 'đẹp', 'có', 'ban', 'công', 'quán', 'sạch', 'sẽ', 'thoáng', 'mát', 'nhân', 'viên', 'niềm', 'nở', 'vui', 'vẻ', 'mình', 'rất', 'thích', 'uống', 'trà', 'xanh', 'kem', 'cheese', 'ở', 'đây', 'trà', 'thanhthơmkem', 'cheese', 'thì', 'ngon', 'còn', 'có', 'kim', 'cương', 'trắng', 'cũng', 'rất', 'ngon', 'trà', 'sữa', 'ở', 'đây', 'cũng', 'ổn', 'giá', 'cả', 'ở', 'đây', 'thì', 'có', 'hơi', 'cao'], tags=['review_2']),\n",
       " TaggedDocument(words=['thấy', 'bánh', 'này', 'đang', 'hot', 'rần', 'rần', 'mình', 'cũng', 'gọi', 'thử', 'hộp', 'bánh', 'bông', 'lan', 'phô', 'mai', 'về', 'an', 'bánh', 'được', 'đóng', 'gói', 'khá', 'sang', 'trọng', 'dùng', 'để', 'làm', 'quà', 'biếu', 'thì', 'ok', 'lắm', 'bánh', 'mới', 'nên', 'cốt', 'bánh', 'rất', 'mềm', 'phô', 'mai', 'ở', 'giữa', 'mặn', 'mặn', 'ăn', 'khá', 'hợp', 'với', 'bánh', 'nhưng', 'ít', 'quá', 'giá', 'cả', 'khá', 'cao', 'lâu', 'lâu', 'thèm', 'ăn', 'thì', 'được'], tags=['review_3'])]"
      ]
     },
     "execution_count": 147,
     "metadata": {},
     "output_type": "execute_result"
    }
   ],
   "source": [
    "review_label[0:4]"
   ]
  },
  {
   "cell_type": "code",
   "execution_count": 148,
   "metadata": {
    "collapsed": true
   },
   "outputs": [],
   "source": [
    "## Tạo từ điển và train model\n",
    "#build vocab and model\n",
    "cores = mp.cpu_count()\n",
    "model = Doc2Vec(min_count=1, window=10, size=100, workers=cores)\n",
    "model.build_vocab(review_label)"
   ]
  },
  {
   "cell_type": "code",
   "execution_count": 149,
   "metadata": {},
   "outputs": [],
   "source": [
    "for epoch in range(5):\n",
    "    shuffle(review_label)\n",
    "    model.train(review_label, total_examples=model.corpus_count, epochs=epoch)\n",
    "    model.alpha -= 0.002  # decrease the learning rate\n",
    "    model.min_alpha = model.alpha  # fix the learning rate, no decay"
   ]
  },
  {
   "cell_type": "markdown",
   "metadata": {},
   "source": [
    "## Tạo train và test vector"
   ]
  },
  {
   "cell_type": "code",
   "execution_count": 150,
   "metadata": {},
   "outputs": [],
   "source": [
    "ranges = len(data)\n",
    "review_vec = np.zeros((ranges, 100))\n",
    "for index in range(ranges):\n",
    "    review_vec[index] = model.docvecs['review_' + str(index)]"
   ]
  },
  {
   "cell_type": "code",
   "execution_count": 151,
   "metadata": {},
   "outputs": [
    {
     "data": {
      "text/plain": [
       "array([[-0.45649961, -0.02403747,  0.30128953, ...,  0.49583066,\n",
       "         0.0561779 , -0.02354425],\n",
       "       [-0.12095491, -0.81089294, -0.59928614, ..., -0.39983344,\n",
       "         0.38917777, -0.59527576],\n",
       "       [-0.12261435, -0.23277071, -0.15242317, ..., -0.45269626,\n",
       "         0.20752737, -0.12751415],\n",
       "       ..., \n",
       "       [ 0.22505678, -0.22037929, -0.40714124, ..., -0.39952335,\n",
       "        -0.16156606,  0.09626034],\n",
       "       [-0.2047025 , -0.30238736, -0.15120442, ..., -0.1457895 ,\n",
       "        -0.25319514, -0.35750097],\n",
       "       [-0.12789682, -0.15730767, -0.25094521, ..., -0.19948401,\n",
       "         0.10544757, -0.08271421]])"
      ]
     },
     "execution_count": 151,
     "metadata": {},
     "output_type": "execute_result"
    }
   ],
   "source": [
    "review_vec"
   ]
  },
  {
   "cell_type": "code",
   "execution_count": 152,
   "metadata": {
    "collapsed": true
   },
   "outputs": [],
   "source": [
    "x_train, x_test, y_train, y_test = train_test_split(review_vec, reviews['score'], test_size=0.2)"
   ]
  },
  {
   "cell_type": "code",
   "execution_count": 153,
   "metadata": {},
   "outputs": [
    {
     "data": {
      "text/plain": [
       "LogisticRegression(C=1.0, class_weight=None, dual=False, fit_intercept=True,\n",
       "          intercept_scaling=1, max_iter=100, multi_class='ovr', n_jobs=1,\n",
       "          penalty='l2', random_state=None, solver='liblinear', tol=0.0001,\n",
       "          verbose=0, warm_start=False)"
      ]
     },
     "execution_count": 153,
     "metadata": {},
     "output_type": "execute_result"
    }
   ],
   "source": [
    "#train model using logistic regression\n",
    "logistic = LogisticRegression()\n",
    "logistic.fit(x_train , y_train)"
   ]
  },
  {
   "cell_type": "code",
   "execution_count": 155,
   "metadata": {},
   "outputs": [
    {
     "name": "stdout",
     "output_type": "stream",
     "text": [
      "[[  283  1635]\n",
      " [  216 32742]]\n"
     ]
    }
   ],
   "source": [
    "# Đánh giá kết quả mô hình\n",
    "\n",
    "\"\"\"\n",
    "\t\tNegative\tPositive\n",
    "Negative \tx\t\t  x\n",
    "Positive \tx\t\t  x\n",
    "\"\"\"\n",
    "\n",
    "result = logistic.predict(x_test)\n",
    "print(confusion_matrix(y_test,result))"
   ]
  },
  {
   "cell_type": "markdown",
   "metadata": {},
   "source": [
    "Kết quả này kém hơn so với sử dụng TF-IDF."
   ]
  }
 ],
 "metadata": {
  "kernelspec": {
   "display_name": "Python 3",
   "language": "python",
   "name": "python3"
  },
  "language_info": {
   "codemirror_mode": {
    "name": "ipython",
    "version": 3
   },
   "file_extension": ".py",
   "mimetype": "text/x-python",
   "name": "python",
   "nbconvert_exporter": "python",
   "pygments_lexer": "ipython3",
   "version": "3.6.1"
  }
 },
 "nbformat": 4,
 "nbformat_minor": 2
}
