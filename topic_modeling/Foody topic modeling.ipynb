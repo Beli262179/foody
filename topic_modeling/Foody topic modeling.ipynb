{
 "cells": [
  {
   "cell_type": "code",
   "execution_count": 15,
   "metadata": {},
   "outputs": [],
   "source": [
    "#library\n",
    "import pandas as pd\n",
    "from nltk.tokenize import word_tokenize \n",
    "#from sklearn.model_selection import train_test_split\n",
    "#from sklearn.linear_model import LogisticRegression\n",
    "import nltk\n",
    "import os\n",
    "import numpy as np\n",
    "from sklearn.metrics import confusion_matrix \n",
    "import pandas as pd\n",
    "from sklearn.feature_extraction.text import TfidfVectorizer, CountVectorizer, TfidfTransformer\n",
    "import gensim\n",
    "from gensim import utils\n",
    "from gensim.models import Doc2Vec\n",
    "from gensim.models.doc2vec import TaggedDocument\n",
    "\n",
    "import multiprocessing as mp\n",
    "import re\n",
    "from nltk.tokenize import sent_tokenize, word_tokenize\n",
    "from random import shuffle\n",
    "from gensim.models import Phrases\n",
    "#import pprint"
   ]
  },
  {
   "cell_type": "code",
   "execution_count": 16,
   "metadata": {},
   "outputs": [],
   "source": [
    "import warnings\n",
    "warnings.filterwarnings('ignore')"
   ]
  },
  {
   "cell_type": "code",
   "execution_count": 17,
   "metadata": {},
   "outputs": [],
   "source": [
    "#read file\n",
    "data = pd.read_pickle('/home/zero/jupyter/Foody review/Sentiment/foody review.pkl')"
   ]
  },
  {
   "cell_type": "code",
   "execution_count": 18,
   "metadata": {},
   "outputs": [
    {
     "data": {
      "text/html": [
       "<div>\n",
       "<style>\n",
       "    .dataframe thead tr:only-child th {\n",
       "        text-align: right;\n",
       "    }\n",
       "\n",
       "    .dataframe thead th {\n",
       "        text-align: left;\n",
       "    }\n",
       "\n",
       "    .dataframe tbody tr th {\n",
       "        vertical-align: top;\n",
       "    }\n",
       "</style>\n",
       "<table border=\"1\" class=\"dataframe\">\n",
       "  <thead>\n",
       "    <tr style=\"text-align: right;\">\n",
       "      <th></th>\n",
       "      <th>user_link</th>\n",
       "      <th>user_name</th>\n",
       "      <th>brand_name</th>\n",
       "      <th>brand_link</th>\n",
       "      <th>review_content</th>\n",
       "      <th>score</th>\n",
       "    </tr>\n",
       "  </thead>\n",
       "  <tbody>\n",
       "    <tr>\n",
       "      <th>0</th>\n",
       "      <td>https://www.foody.vn/thanh-vien/taiyo</td>\n",
       "      <td>Sunny</td>\n",
       "      <td>El Sol - Meat &amp; Wine - Võ Thị Sáu</td>\n",
       "      <td>https://www.foody.vn/ho-chi-minh/el-sol-meat-w...</td>\n",
       "      <td>Quán steak hiếm hoi mà mình cực kì ưng ý từ lâ...</td>\n",
       "      <td>8.6</td>\n",
       "    </tr>\n",
       "    <tr>\n",
       "      <th>1</th>\n",
       "      <td>https://www.foody.vn/thanh-vien/viola_0309_tv</td>\n",
       "      <td>Nguyên Khánh</td>\n",
       "      <td>Busan Korean Food - Món Hàn Quốc - Đinh Tiên H...</td>\n",
       "      <td>https://www.foody.vn/ho-chi-minh/busan-korean-...</td>\n",
       "      <td>Vị trí dễ tìm. Giữ xe rất nhiệt tình. Dắt xe v...</td>\n",
       "      <td>7.4</td>\n",
       "    </tr>\n",
       "    <tr>\n",
       "      <th>2</th>\n",
       "      <td>https://www.foody.vn/thanh-vien/tuhao2509</td>\n",
       "      <td>Tú Hảo</td>\n",
       "      <td>TocoToco Bubble Tea - Cộng Hòa</td>\n",
       "      <td>https://www.foody.vn/ho-chi-minh/tocotoco-bubb...</td>\n",
       "      <td>Địa điểm quán dễ tìm. Không gian cũng rộng, có...</td>\n",
       "      <td>6.4</td>\n",
       "    </tr>\n",
       "    <tr>\n",
       "      <th>3</th>\n",
       "      <td>https://www.foody.vn/thanh-vien/zip_zilip</td>\n",
       "      <td>Vy Nhật</td>\n",
       "      <td>Le Castella Viet Nam - Bánh Bông Lan Đài Loan ...</td>\n",
       "      <td>https://www.foody.vn/ho-chi-minh/le-castella-v...</td>\n",
       "      <td>Thấy bánh này đang hot rần rần mình cũng gọi t...</td>\n",
       "      <td>7.2</td>\n",
       "    </tr>\n",
       "    <tr>\n",
       "      <th>4</th>\n",
       "      <td>https://www.foody.vn/thanh-vien/tien97</td>\n",
       "      <td>Tien97</td>\n",
       "      <td>Tabletop - Boardgame &amp; Coffee</td>\n",
       "      <td>https://www.foody.vn/ho-chi-minh/tabletop-boar...</td>\n",
       "      <td>Mỗi lần nghĩ tới boardgame thì sẽ nghĩ tới vô ...</td>\n",
       "      <td>10.0</td>\n",
       "    </tr>\n",
       "  </tbody>\n",
       "</table>\n",
       "</div>"
      ],
      "text/plain": [
       "                                       user_link     user_name  \\\n",
       "0          https://www.foody.vn/thanh-vien/taiyo         Sunny   \n",
       "1  https://www.foody.vn/thanh-vien/viola_0309_tv  Nguyên Khánh   \n",
       "2      https://www.foody.vn/thanh-vien/tuhao2509        Tú Hảo   \n",
       "3      https://www.foody.vn/thanh-vien/zip_zilip       Vy Nhật   \n",
       "4         https://www.foody.vn/thanh-vien/tien97        Tien97   \n",
       "\n",
       "                                          brand_name  \\\n",
       "0                  El Sol - Meat & Wine - Võ Thị Sáu   \n",
       "1  Busan Korean Food - Món Hàn Quốc - Đinh Tiên H...   \n",
       "2                     TocoToco Bubble Tea - Cộng Hòa   \n",
       "3  Le Castella Viet Nam - Bánh Bông Lan Đài Loan ...   \n",
       "4                      Tabletop - Boardgame & Coffee   \n",
       "\n",
       "                                          brand_link  \\\n",
       "0  https://www.foody.vn/ho-chi-minh/el-sol-meat-w...   \n",
       "1  https://www.foody.vn/ho-chi-minh/busan-korean-...   \n",
       "2  https://www.foody.vn/ho-chi-minh/tocotoco-bubb...   \n",
       "3  https://www.foody.vn/ho-chi-minh/le-castella-v...   \n",
       "4  https://www.foody.vn/ho-chi-minh/tabletop-boar...   \n",
       "\n",
       "                                      review_content  score  \n",
       "0  Quán steak hiếm hoi mà mình cực kì ưng ý từ lâ...    8.6  \n",
       "1  Vị trí dễ tìm. Giữ xe rất nhiệt tình. Dắt xe v...    7.4  \n",
       "2  Địa điểm quán dễ tìm. Không gian cũng rộng, có...    6.4  \n",
       "3  Thấy bánh này đang hot rần rần mình cũng gọi t...    7.2  \n",
       "4  Mỗi lần nghĩ tới boardgame thì sẽ nghĩ tới vô ...   10.0  "
      ]
     },
     "execution_count": 18,
     "metadata": {},
     "output_type": "execute_result"
    }
   ],
   "source": [
    "#xem qua dữ liệu\n",
    "data.head()"
   ]
  },
  {
   "cell_type": "code",
   "execution_count": 19,
   "metadata": {},
   "outputs": [],
   "source": [
    "#làm sạch dữ liệu\n",
    "def string_clean(s):\n",
    "    s_lower = s.lower()\n",
    "    s_clean = \" \".join(re.findall(\"[a-zaáàảãạâấầẩẫậăắằẳẵặeéèẻẽẹêếềểễệiíìỉĩịoóòỏõọôốồổỗộơớờởỡợuúùủũụưứừửữựyýỳỷỹỵđ]+\", s_lower))\n",
    "    return(word_tokenize(s_clean))"
   ]
  },
  {
   "cell_type": "code",
   "execution_count": 20,
   "metadata": {},
   "outputs": [],
   "source": [
    "#lọc dữ liệu xấu\n",
    "review_bad = []\n",
    "review_bad.extend(data[data['score'] < 3.5]['review_content'].apply(lambda x: string_clean(x))) #"
   ]
  },
  {
   "cell_type": "code",
   "execution_count": 21,
   "metadata": {},
   "outputs": [
    {
     "name": "stdout",
     "output_type": "stream",
     "text": [
      "[['đồng', 'suy', 'nghĩ', 'với', 'bro', 'này', 'bỏ', 'tiền', 'ra', 'mua', 'trà', 'chứ', 'có', 'phải', 'xin', 'trà', 'free', 'đâu', 'mà', 'làm', 'việc', 'ko', 'có', 'tâm', 'thế', 'này', 'chắc', 'từ', 'nay', 'cạch', 'mặt', 'luôn', 'quán', 'nằm', 'ở', 'trung', 'tâm', 'mà', 'làm', 'ăn', 'như', 'hạch', 'vậy'], ['oimeoi', 'quán', 'ngay', 'chỗ', 'đẹp', 'vậy', 'mà', 'làm', 'ăn', 'chán', 'thế', 'phốt', 'từ', 'bên', 'fb', 'qua', 'đây', 'luôn', 'hồi', 'trước', 'mình', 'cũng', 'thử', 'ly', 'rồi', 'mà', 'dở', 'quá', 'nên', 'ko', 'quay', 'lại', 'nữa', 'giờ', 'lên', 'xem', 'thử', 'ai', 'dè', 'bị', 'chê', 'chửi', 'dữ', 'quá', 'cải', 'thiện', 'chất', 'lượng', 'lại', 'đi', 'các', 'ông', 'ôi', 'ko', 'sập', 'tiệm', 'đấy'], ['view', 'đẹp', 'đồ', 'uống', 'bình', 'thường', 'phục', 'vụ', 'kém', 'đem', 'sai', 'đồ', 'uống', 'khách', 'kêu', 'còn', 'ra', 'cãi', 'vs', 'khách', 'mình', 'dễ', 'tính', 'lắm', 'chị', 'phục', 'vụ', 'chỉ', 'cần', 'kêu', 'thông', 'cảm', 'này', 'nọ', 'thì', 'mình', 'chẳng', 'nói', 'làm', 'gì', 'đằng', 'này', 'mình', 'đọc', 'cho', 'chị', 'đó', 'ghi', 'còn', 'chỉ', 'hẳn', 'vào', 'menu', 'thế', 'mà', 'ra', 'cãi', 'còn', 'k', 'đổi', 'đúng', 'đồ', 'uống', 'mình', 'kêu', 'mong', 'quán', 'tuyển', 'người', 'có', 'chọn', 'lọc']]\n"
     ]
    }
   ],
   "source": [
    "print(review_bad[:3])"
   ]
  },
  {
   "cell_type": "code",
   "execution_count": 22,
   "metadata": {},
   "outputs": [],
   "source": [
    "#bigram and trigram\n",
    "bigram = Phrases()\n",
    "#trigram = p\n",
    "bigram.add_vocab(review_bad)"
   ]
  },
  {
   "cell_type": "code",
   "execution_count": 23,
   "metadata": {},
   "outputs": [],
   "source": [
    "bigram_review_bad = []\n",
    "for j in review_bad:\n",
    "    bigram_review_bad.append(bigram[j]) "
   ]
  },
  {
   "cell_type": "code",
   "execution_count": 24,
   "metadata": {
    "scrolled": true
   },
   "outputs": [
    {
     "name": "stdout",
     "output_type": "stream",
     "text": [
      "[['đồng', 'suy_nghĩ', 'với', 'bro', 'này', 'bỏ', 'tiền', 'ra', 'mua', 'trà', 'chứ', 'có', 'phải', 'xin', 'trà', 'free', 'đâu', 'mà', 'làm_việc', 'ko', 'có', 'tâm', 'thế_này', 'chắc', 'từ', 'nay', 'cạch_mặt', 'luôn', 'quán', 'nằm_ở', 'trung_tâm', 'mà', 'làm', 'ăn', 'như', 'hạch', 'vậy'], ['oimeoi', 'quán', 'ngay', 'chỗ', 'đẹp', 'vậy', 'mà', 'làm', 'ăn', 'chán', 'thế', 'phốt', 'từ', 'bên', 'fb', 'qua', 'đây', 'luôn', 'hồi', 'trước', 'mình', 'cũng', 'thử', 'ly', 'rồi', 'mà', 'dở', 'quá', 'nên', 'ko', 'quay_lại', 'nữa', 'giờ', 'lên', 'xem', 'thử', 'ai_dè', 'bị', 'chê', 'chửi', 'dữ', 'quá', 'cải_thiện', 'chất_lượng', 'lại', 'đi', 'các', 'ông', 'ôi', 'ko', 'sập', 'tiệm', 'đấy'], ['view_đẹp', 'đồ_uống', 'bình_thường', 'phục_vụ', 'kém', 'đem', 'sai', 'đồ_uống', 'khách', 'kêu', 'còn', 'ra', 'cãi', 'vs', 'khách', 'mình', 'dễ_tính', 'lắm', 'chị', 'phục_vụ', 'chỉ', 'cần', 'kêu', 'thông_cảm', 'này_nọ', 'thì', 'mình', 'chẳng', 'nói', 'làm', 'gì', 'đằng_này', 'mình', 'đọc', 'cho', 'chị', 'đó', 'ghi', 'còn', 'chỉ', 'hẳn', 'vào', 'menu', 'thế', 'mà', 'ra', 'cãi', 'còn', 'k', 'đổi', 'đúng', 'đồ_uống', 'mình', 'kêu', 'mong', 'quán', 'tuyển', 'người', 'có', 'chọn', 'lọc']]\n"
     ]
    }
   ],
   "source": [
    "print(bigram_review_bad[:3])"
   ]
  },
  {
   "cell_type": "code",
   "execution_count": 25,
   "metadata": {},
   "outputs": [],
   "source": [
    "trigram = Phrases()\n",
    "trigram.add_vocab(bigram_review_bad)\n",
    "trigram_review_bad = []\n",
    "for j in bigram_review_bad:\n",
    "    trigram_review_bad.append(trigram[j])"
   ]
  },
  {
   "cell_type": "code",
   "execution_count": 26,
   "metadata": {},
   "outputs": [
    {
     "name": "stdout",
     "output_type": "stream",
     "text": [
      "[['đồng', 'suy_nghĩ', 'với', 'bro', 'này', 'bỏ_tiền', 'ra', 'mua', 'trà', 'chứ', 'có', 'phải', 'xin', 'trà', 'free', 'đâu', 'mà', 'làm_việc', 'ko', 'có', 'tâm', 'thế_này', 'chắc', 'từ_nay', 'cạch_mặt', 'luôn', 'quán', 'nằm_ở', 'trung_tâm', 'mà', 'làm', 'ăn', 'như', 'hạch', 'vậy'], ['oimeoi', 'quán', 'ngay', 'chỗ', 'đẹp', 'vậy', 'mà', 'làm', 'ăn', 'chán', 'thế', 'phốt', 'từ', 'bên', 'fb', 'qua', 'đây', 'luôn', 'hồi', 'trước', 'mình', 'cũng', 'thử', 'ly', 'rồi', 'mà', 'dở', 'quá', 'nên', 'ko', 'quay_lại', 'nữa', 'giờ', 'lên', 'xem', 'thử', 'ai_dè', 'bị', 'chê', 'chửi', 'dữ', 'quá', 'cải_thiện', 'chất_lượng', 'lại', 'đi', 'các', 'ông', 'ôi', 'ko', 'sập', 'tiệm', 'đấy'], ['view_đẹp', 'đồ_uống', 'bình_thường', 'phục_vụ_kém', 'đem', 'sai', 'đồ_uống', 'khách', 'kêu', 'còn', 'ra', 'cãi', 'vs', 'khách', 'mình', 'dễ_tính', 'lắm', 'chị', 'phục_vụ', 'chỉ', 'cần', 'kêu', 'thông_cảm', 'này_nọ', 'thì', 'mình', 'chẳng', 'nói', 'làm', 'gì', 'đằng_này', 'mình', 'đọc', 'cho', 'chị', 'đó', 'ghi', 'còn', 'chỉ', 'hẳn', 'vào', 'menu', 'thế', 'mà', 'ra', 'cãi', 'còn', 'k', 'đổi', 'đúng', 'đồ_uống', 'mình', 'kêu', 'mong', 'quán', 'tuyển', 'người', 'có', 'chọn', 'lọc']]\n"
     ]
    }
   ],
   "source": [
    "print(trigram_review_bad[:3])"
   ]
  },
  {
   "cell_type": "code",
   "execution_count": 27,
   "metadata": {},
   "outputs": [],
   "source": [
    "#lda\n",
    "from gensim.corpora import Dictionary, MmCorpus\n",
    "from gensim.models.ldamulticore import LdaMulticore\n",
    "\n",
    "#import pyLDAvis\n",
    "#import pyLDAvis.gensim\n",
    "import warnings\n",
    "#import cPickle as pickle\n",
    "from gensim.models import LdaModel"
   ]
  },
  {
   "cell_type": "code",
   "execution_count": 31,
   "metadata": {},
   "outputs": [],
   "source": [
    "# Create a dictionary representation of the documents.\n",
    "dictionary = Dictionary(trigram_review_bad)\n",
    "\n",
    "# Filter out words that occur less than 20 documents, or more than 50% of the documents.\n",
    "dictionary.filter_extremes(no_below=3, no_above=0.6)"
   ]
  },
  {
   "cell_type": "code",
   "execution_count": 3,
   "metadata": {},
   "outputs": [],
   "source": [
    "#dictionary.save('/home/zero/jupyter/Foody review/topic_modeling/trigram_review.dict')\n",
    "dictionary = Dictionary.load('/home/zero/jupyter/Foody review/topic_modeling/trigram_review.dict')\n"
   ]
  },
  {
   "cell_type": "code",
   "execution_count": 105,
   "metadata": {},
   "outputs": [],
   "source": [
    "#use pickle to save list\n",
    "import pickle\n",
    "with open(\"/home/zero/jupyter/Foody review/topic_modeling/review.data\", \"wb\") as fp:   #Pickling\n",
    "    pickle.dump(trigram_review_bad, fp)"
   ]
  },
  {
   "cell_type": "code",
   "execution_count": 5,
   "metadata": {},
   "outputs": [],
   "source": [
    "import pickle"
   ]
  },
  {
   "cell_type": "code",
   "execution_count": 6,
   "metadata": {},
   "outputs": [],
   "source": [
    "#load data\n",
    "with open(\"/home/zero/jupyter/Foody review/topic_modeling/review.data\", \"rb\") as fp:   # Unpickling\n",
    "    trigram_review_bad = pickle.load(fp)"
   ]
  },
  {
   "cell_type": "code",
   "execution_count": 32,
   "metadata": {},
   "outputs": [],
   "source": [
    "# Bag-of-words representation of the documents.\n",
    "corpus = [dictionary.doc2bow(doc) for doc in trigram_review_bad]"
   ]
  },
  {
   "cell_type": "code",
   "execution_count": 37,
   "metadata": {},
   "outputs": [
    {
     "name": "stdout",
     "output_type": "stream",
     "text": [
      "CPU times: user 5min 57s, sys: 15.2 s, total: 6min 13s\n",
      "Wall time: 6min 35s\n"
     ]
    }
   ],
   "source": [
    "# Train LDA model.\n",
    "\n",
    "from gensim.models import LdaModel\n",
    "\n",
    "# Set training parameters.\n",
    "num_topics = 5\n",
    "chunksize = 2000\n",
    "passes = 20\n",
    "iterations = 400\n",
    "eval_every = None  # Don't evaluate model perplexity, takes too much time.\n",
    "\n",
    "# Make a index to word dictionary.\n",
    "temp = dictionary[0]  # This is only to \"load\" the dictionary.\n",
    "id2word = dictionary.id2token\n",
    "\n",
    "%time model = LdaMulticore(corpus=corpus, id2word=id2word, chunksize=chunksize, \\\n",
    "                           iterations=iterations, num_topics=num_topics, \\\n",
    "                           passes=passes, eval_every=eval_every)"
   ]
  },
  {
   "cell_type": "code",
   "execution_count": 9,
   "metadata": {},
   "outputs": [],
   "source": [
    "#save model\n",
    "model.save('/home/zero/jupyter/Foody review/topic_modeling/foody_review_lda.model')"
   ]
  },
  {
   "cell_type": "code",
   "execution_count": 34,
   "metadata": {},
   "outputs": [
    {
     "name": "stdout",
     "output_type": "stream",
     "text": [
      "Average topic coherence: -1.2667.\n"
     ]
    }
   ],
   "source": [
    "top_topics = model.top_topics(corpus, topn=20)\n",
    "\n",
    "# Average topic coherence is the sum of topic coherences of all topics, divided by the number of topics.\n",
    "avg_topic_coherence = sum([t[1] for t in top_topics]) / num_topics\n",
    "print('Average topic coherence: %.4f.' % avg_topic_coherence)"
   ]
  },
  {
   "cell_type": "code",
   "execution_count": 35,
   "metadata": {},
   "outputs": [
    {
     "name": "stdout",
     "output_type": "stream",
     "text": [
      "[([(0.020636363579754714, 'k'),\n",
      "   (0.015291652681918224, 'là'),\n",
      "   (0.014437565176082126, 'ko'),\n",
      "   (0.014332903040551227, 'mà'),\n",
      "   (0.013730973674802653, 'mình'),\n",
      "   (0.011838724354372356, 'không'),\n",
      "   (0.01151518659000926, 'cũng'),\n",
      "   (0.01112757740070441, 'và'),\n",
      "   (0.010918473571238336, 'món'),\n",
      "   (0.01052514511752628, 'gọi'),\n",
      "   (0.0097976580835575193, 'thấy'),\n",
      "   (0.009106189917506011, 'quán'),\n",
      "   (0.0086180904368546949, 'ngon'),\n",
      "   (0.0079883426145622403, 'nhưng'),\n",
      "   (0.0072947058988788423, 'cái'),\n",
      "   (0.0071909080820455971, 'ra'),\n",
      "   (0.0069040344281721816, 'quá'),\n",
      "   (0.0065442257958532443, 'như'),\n",
      "   (0.0059568186367593605, 'nên'),\n",
      "   (0.005807872888545236, 'đi')],\n",
      "  -0.8392674423224189),\n",
      " ([(0.038344303873026855, 'mình'),\n",
      "   (0.019458417263165176, 'không'),\n",
      "   (0.016733389880922836, 'là'),\n",
      "   (0.014070350957373823, 'và'),\n",
      "   (0.011066792308783364, 'nhân_viên'),\n",
      "   (0.010680393509015807, 'đi'),\n",
      "   (0.010373977019801996, 'quán'),\n",
      "   (0.0096630858472193208, 'cũng'),\n",
      "   (0.0094576416673456173, 'cho'),\n",
      "   (0.0094343436012815727, 'đến'),\n",
      "   (0.0085726315750917978, 'mà'),\n",
      "   (0.0084829398001505414, 'nhưng'),\n",
      "   (0.0078752507922043129, 'nên'),\n",
      "   (0.0076308556181274812, 'lại'),\n",
      "   (0.0073090252558461249, 'ra'),\n",
      "   (0.0072423796592942296, 'vào'),\n",
      "   (0.0071824401761750303, 'nói'),\n",
      "   (0.0069473971554372569, 'rồi'),\n",
      "   (0.0069067542565654123, 'khách'),\n",
      "   (0.0067307459822529133, 'bạn')],\n",
      "  -0.86139646572450079),\n",
      " ([(0.028319518969548704, 'mình'),\n",
      "   (0.01601157439662667, 'không'),\n",
      "   (0.014974918104079355, 'là'),\n",
      "   (0.014095313508390477, 'mà'),\n",
      "   (0.013632906288743427, 'quán'),\n",
      "   (0.013153810231195502, 'ko'),\n",
      "   (0.011536520614100968, 'nhân_viên'),\n",
      "   (0.011493590932599322, 'k'),\n",
      "   (0.010194110060382847, 'uống'),\n",
      "   (0.009877895445170818, 'và'),\n",
      "   (0.009416047042156258, 'cũng'),\n",
      "   (0.0093015232582119942, 'nhưng'),\n",
      "   (0.0076354663902361702, 'lại'),\n",
      "   (0.007256102732535223, 'gọi'),\n",
      "   (0.0070925355420222401, 'khách'),\n",
      "   (0.0069942264282791579, 'đến'),\n",
      "   (0.0066777433809724358, 'cho'),\n",
      "   (0.006477020600061785, 'trà_sữa'),\n",
      "   (0.0063614170837221068, 'nên'),\n",
      "   (0.0061338771591845443, 'thấy')],\n",
      "  -0.9783634728504802),\n",
      " ([(0.020781299588459732, 'không'),\n",
      "   (0.01938886154831055, 'quán'),\n",
      "   (0.018213977986753848, 'k'),\n",
      "   (0.016510118963358824, 'mà'),\n",
      "   (0.010526745841752028, 'mình'),\n",
      "   (0.01050328189195732, 'là'),\n",
      "   (0.0089664255872427094, 'giá'),\n",
      "   (0.0084262107279669731, 'cũng'),\n",
      "   (0.0082651910473414535, 'và'),\n",
      "   (0.007866666872272424, 'còn'),\n",
      "   (0.0077365539193807445, 'đi'),\n",
      "   (0.0076585487943873279, 'nên'),\n",
      "   (0.0068794916874992144, 'ngon'),\n",
      "   (0.0065704761461946488, 'nhưng'),\n",
      "   (0.0065416232306650494, 'ko'),\n",
      "   (0.006483190348201045, 'vào'),\n",
      "   (0.0063011190220829908, 'món'),\n",
      "   (0.0061859898059180981, 'cho'),\n",
      "   (0.0059588502754167258, 'người'),\n",
      "   (0.0059264358615285402, 'quán_này')],\n",
      "  -0.99251671102182382),\n",
      " ([(0.014515798698523501, 'thi'),\n",
      "   (0.011762808861608395, 'i'),\n",
      "   (0.011293267920349275, 'không'),\n",
      "   (0.010399584687544589, 'la'),\n",
      "   (0.0092572622752170042, 'mi_nh'),\n",
      "   (0.0091323852319478167, 'ng'),\n",
      "   (0.0088396833221458752, 'a'),\n",
      "   (0.0087804635072211267, 'the'),\n",
      "   (0.0085093691415944403, 'n'),\n",
      "   (0.0084308670088049167, 'co'),\n",
      "   (0.0081441574648473333, 'c'),\n",
      "   (0.0080373083074810146, 't'),\n",
      "   (0.0074755828956044714, 'ma'),\n",
      "   (0.0070105968814163635, 'and'),\n",
      "   (0.0068346813277940753, 'k'),\n",
      "   (0.0066322702461333316, 'to'),\n",
      "   (0.0062508620952504189, 'p'),\n",
      "   (0.0062110053641886084, 'đi'),\n",
      "   (0.0059393445281825125, 'va'),\n",
      "   (0.0055477330180955737, 'nhân_viên')],\n",
      "  -2.6620449726168767)]\n"
     ]
    }
   ],
   "source": [
    "from pprint import pprint\n",
    "pprint(top_topics)"
   ]
  }
 ],
 "metadata": {
  "kernelspec": {
   "display_name": "Python 3",
   "language": "python",
   "name": "python3"
  },
  "language_info": {
   "codemirror_mode": {
    "name": "ipython",
    "version": 3
   },
   "file_extension": ".py",
   "mimetype": "text/x-python",
   "name": "python",
   "nbconvert_exporter": "python",
   "pygments_lexer": "ipython3",
   "version": "3.5.2"
  }
 },
 "nbformat": 4,
 "nbformat_minor": 2
}
