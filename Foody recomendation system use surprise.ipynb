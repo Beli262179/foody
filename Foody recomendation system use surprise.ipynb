{
 "cells": [
  {
   "cell_type": "markdown",
   "metadata": {},
   "source": [
    "# Recommendation system sử dụng dữ liệu của foody"
   ]
  },
  {
   "cell_type": "code",
   "execution_count": 1,
   "metadata": {},
   "outputs": [],
   "source": [
    "#library\n",
    "import pandas as pd\n",
    "import surprise\n",
    "from surprise import SVD, Dataset, Reader, evaluate, print_perf, accuracy, GridSearch, KNNBaseline"
   ]
  },
  {
   "cell_type": "markdown",
   "metadata": {},
   "source": [
    "# Đọc dữ liệu"
   ]
  },
  {
   "cell_type": "code",
   "execution_count": 3,
   "metadata": {},
   "outputs": [
    {
     "data": {
      "text/html": [
       "<div>\n",
       "<style>\n",
       "    .dataframe thead tr:only-child th {\n",
       "        text-align: right;\n",
       "    }\n",
       "\n",
       "    .dataframe thead th {\n",
       "        text-align: left;\n",
       "    }\n",
       "\n",
       "    .dataframe tbody tr th {\n",
       "        vertical-align: top;\n",
       "    }\n",
       "</style>\n",
       "<table border=\"1\" class=\"dataframe\">\n",
       "  <thead>\n",
       "    <tr style=\"text-align: right;\">\n",
       "      <th></th>\n",
       "      <th>user_link</th>\n",
       "      <th>user_name</th>\n",
       "      <th>brand_name</th>\n",
       "      <th>brand_link</th>\n",
       "      <th>review_content</th>\n",
       "      <th>score</th>\n",
       "    </tr>\n",
       "  </thead>\n",
       "  <tbody>\n",
       "    <tr>\n",
       "      <th>0</th>\n",
       "      <td>https://www.foody.vn/thanh-vien/taiyo</td>\n",
       "      <td>Sunny</td>\n",
       "      <td>El Sol - Meat &amp; Wine - Võ Thị Sáu</td>\n",
       "      <td>https://www.foody.vn/ho-chi-minh/el-sol-meat-w...</td>\n",
       "      <td>Quán steak hiếm hoi mà mình cực kì ưng ý từ lâ...</td>\n",
       "      <td>8.6</td>\n",
       "    </tr>\n",
       "    <tr>\n",
       "      <th>1</th>\n",
       "      <td>https://www.foody.vn/thanh-vien/viola_0309_tv</td>\n",
       "      <td>Nguyên Khánh</td>\n",
       "      <td>Busan Korean Food - Món Hàn Quốc - Đinh Tiên H...</td>\n",
       "      <td>https://www.foody.vn/ho-chi-minh/busan-korean-...</td>\n",
       "      <td>Vị trí dễ tìm. Giữ xe rất nhiệt tình. Dắt xe v...</td>\n",
       "      <td>7.4</td>\n",
       "    </tr>\n",
       "    <tr>\n",
       "      <th>2</th>\n",
       "      <td>https://www.foody.vn/thanh-vien/tuhao2509</td>\n",
       "      <td>Tú Hảo</td>\n",
       "      <td>TocoToco Bubble Tea - Cộng Hòa</td>\n",
       "      <td>https://www.foody.vn/ho-chi-minh/tocotoco-bubb...</td>\n",
       "      <td>Địa điểm quán dễ tìm. Không gian cũng rộng, có...</td>\n",
       "      <td>6.4</td>\n",
       "    </tr>\n",
       "    <tr>\n",
       "      <th>3</th>\n",
       "      <td>https://www.foody.vn/thanh-vien/zip_zilip</td>\n",
       "      <td>Vy Nhật</td>\n",
       "      <td>Le Castella Viet Nam - Bánh Bông Lan Đài Loan ...</td>\n",
       "      <td>https://www.foody.vn/ho-chi-minh/le-castella-v...</td>\n",
       "      <td>Thấy bánh này đang hot rần rần mình cũng gọi t...</td>\n",
       "      <td>7.2</td>\n",
       "    </tr>\n",
       "    <tr>\n",
       "      <th>4</th>\n",
       "      <td>https://www.foody.vn/thanh-vien/tien97</td>\n",
       "      <td>Tien97</td>\n",
       "      <td>Tabletop - Boardgame &amp; Coffee</td>\n",
       "      <td>https://www.foody.vn/ho-chi-minh/tabletop-boar...</td>\n",
       "      <td>Mỗi lần nghĩ tới boardgame thì sẽ nghĩ tới vô ...</td>\n",
       "      <td>10.0</td>\n",
       "    </tr>\n",
       "  </tbody>\n",
       "</table>\n",
       "</div>"
      ],
      "text/plain": [
       "                                       user_link     user_name  \\\n",
       "0          https://www.foody.vn/thanh-vien/taiyo         Sunny   \n",
       "1  https://www.foody.vn/thanh-vien/viola_0309_tv  Nguyên Khánh   \n",
       "2      https://www.foody.vn/thanh-vien/tuhao2509        Tú Hảo   \n",
       "3      https://www.foody.vn/thanh-vien/zip_zilip       Vy Nhật   \n",
       "4         https://www.foody.vn/thanh-vien/tien97        Tien97   \n",
       "\n",
       "                                          brand_name  \\\n",
       "0                  El Sol - Meat & Wine - Võ Thị Sáu   \n",
       "1  Busan Korean Food - Món Hàn Quốc - Đinh Tiên H...   \n",
       "2                     TocoToco Bubble Tea - Cộng Hòa   \n",
       "3  Le Castella Viet Nam - Bánh Bông Lan Đài Loan ...   \n",
       "4                      Tabletop - Boardgame & Coffee   \n",
       "\n",
       "                                          brand_link  \\\n",
       "0  https://www.foody.vn/ho-chi-minh/el-sol-meat-w...   \n",
       "1  https://www.foody.vn/ho-chi-minh/busan-korean-...   \n",
       "2  https://www.foody.vn/ho-chi-minh/tocotoco-bubb...   \n",
       "3  https://www.foody.vn/ho-chi-minh/le-castella-v...   \n",
       "4  https://www.foody.vn/ho-chi-minh/tabletop-boar...   \n",
       "\n",
       "                                      review_content  score  \n",
       "0  Quán steak hiếm hoi mà mình cực kì ưng ý từ lâ...    8.6  \n",
       "1  Vị trí dễ tìm. Giữ xe rất nhiệt tình. Dắt xe v...    7.4  \n",
       "2  Địa điểm quán dễ tìm. Không gian cũng rộng, có...    6.4  \n",
       "3  Thấy bánh này đang hot rần rần mình cũng gọi t...    7.2  \n",
       "4  Mỗi lần nghĩ tới boardgame thì sẽ nghĩ tới vô ...   10.0  "
      ]
     },
     "execution_count": 3,
     "metadata": {},
     "output_type": "execute_result"
    }
   ],
   "source": [
    "data = pd.read_pickle('/home/zero/jupyter/Foody review/Foody sentiment/foody review.pkl')\n",
    "data.head()"
   ]
  },
  {
   "cell_type": "code",
   "execution_count": 4,
   "metadata": {},
   "outputs": [],
   "source": [
    "review = pd.DataFrame(columns = ['user', 'item', 'rating'])\n",
    "review['user'] = data['user_link'].apply(lambda x: x.replace('https://www.foody.vn/thanh-vien/', ''))\n",
    "review['item'] = data['brand_link']\n",
    "review['rating'] = data['score']"
   ]
  },
  {
   "cell_type": "code",
   "execution_count": 5,
   "metadata": {},
   "outputs": [
    {
     "data": {
      "text/html": [
       "<div>\n",
       "<style>\n",
       "    .dataframe thead tr:only-child th {\n",
       "        text-align: right;\n",
       "    }\n",
       "\n",
       "    .dataframe thead th {\n",
       "        text-align: left;\n",
       "    }\n",
       "\n",
       "    .dataframe tbody tr th {\n",
       "        vertical-align: top;\n",
       "    }\n",
       "</style>\n",
       "<table border=\"1\" class=\"dataframe\">\n",
       "  <thead>\n",
       "    <tr style=\"text-align: right;\">\n",
       "      <th></th>\n",
       "      <th>user</th>\n",
       "      <th>item</th>\n",
       "      <th>rating</th>\n",
       "    </tr>\n",
       "  </thead>\n",
       "  <tbody>\n",
       "    <tr>\n",
       "      <th>0</th>\n",
       "      <td>taiyo</td>\n",
       "      <td>https://www.foody.vn/ho-chi-minh/el-sol-meat-w...</td>\n",
       "      <td>8.6</td>\n",
       "    </tr>\n",
       "    <tr>\n",
       "      <th>1</th>\n",
       "      <td>viola_0309_tv</td>\n",
       "      <td>https://www.foody.vn/ho-chi-minh/busan-korean-...</td>\n",
       "      <td>7.4</td>\n",
       "    </tr>\n",
       "    <tr>\n",
       "      <th>2</th>\n",
       "      <td>tuhao2509</td>\n",
       "      <td>https://www.foody.vn/ho-chi-minh/tocotoco-bubb...</td>\n",
       "      <td>6.4</td>\n",
       "    </tr>\n",
       "    <tr>\n",
       "      <th>3</th>\n",
       "      <td>zip_zilip</td>\n",
       "      <td>https://www.foody.vn/ho-chi-minh/le-castella-v...</td>\n",
       "      <td>7.2</td>\n",
       "    </tr>\n",
       "    <tr>\n",
       "      <th>4</th>\n",
       "      <td>tien97</td>\n",
       "      <td>https://www.foody.vn/ho-chi-minh/tabletop-boar...</td>\n",
       "      <td>10.0</td>\n",
       "    </tr>\n",
       "  </tbody>\n",
       "</table>\n",
       "</div>"
      ],
      "text/plain": [
       "            user                                               item  rating\n",
       "0          taiyo  https://www.foody.vn/ho-chi-minh/el-sol-meat-w...     8.6\n",
       "1  viola_0309_tv  https://www.foody.vn/ho-chi-minh/busan-korean-...     7.4\n",
       "2      tuhao2509  https://www.foody.vn/ho-chi-minh/tocotoco-bubb...     6.4\n",
       "3      zip_zilip  https://www.foody.vn/ho-chi-minh/le-castella-v...     7.2\n",
       "4         tien97  https://www.foody.vn/ho-chi-minh/tabletop-boar...    10.0"
      ]
     },
     "execution_count": 5,
     "metadata": {},
     "output_type": "execute_result"
    }
   ],
   "source": [
    "review.head()"
   ]
  },
  {
   "cell_type": "code",
   "execution_count": 6,
   "metadata": {},
   "outputs": [
    {
     "data": {
      "text/plain": [
       "(174379, 3)"
      ]
     },
     "execution_count": 6,
     "metadata": {},
     "output_type": "execute_result"
    }
   ],
   "source": [
    "review.shape"
   ]
  },
  {
   "cell_type": "markdown",
   "metadata": {},
   "source": [
    "# Tạo hàm gợi ý địa điểm cho user"
   ]
  },
  {
   "cell_type": "code",
   "execution_count": 7,
   "metadata": {},
   "outputs": [],
   "source": [
    "def build_predictions(local, scale = 10):\n",
    "    #Lọc các đánh giá tại tỉnh thành\n",
    "    review_local = review[review.item.str.contains(local)]\n",
    "    \n",
    "    #load dataset\n",
    "    reader = Reader(rating_scale=(1, scale))\n",
    "    dataset = Dataset.load_from_df(review_local, reader = reader)\n",
    "    \n",
    "    #Sử dụng gridsearch để tối ưu\n",
    "    param_grid = {'n_epochs': [5, 10], \n",
    "                  'lr_all': [0.002, 0.005],\n",
    "                  'reg_all': [0.4, 0.6]}\n",
    "    grid_search = GridSearch(SVD, param_grid, measures=['RMSE'])\n",
    "    \n",
    "    dataset.split(n_folds=5)\n",
    "    grid_search.evaluate(dataset)\n",
    "    params = grid_search.best_params['RMSE']\n",
    "    \n",
    "    #Train model\n",
    "    trainset = dataset.build_full_trainset()\n",
    "    algo = SVD(lr_all = params['lr_all'],\n",
    "               n_epochs = params['n_epochs'],\n",
    "               reg_all = params['reg_all'])\n",
    "    algo.train(trainset)\n",
    "    \n",
    "    #predictions\n",
    "    testset = trainset.build_anti_testset()\n",
    "    predictions = algo.test(testset)\n",
    "    \n",
    "    return(trainset, predictions)"
   ]
  },
  {
   "cell_type": "code",
   "execution_count": 8,
   "metadata": {},
   "outputs": [],
   "source": [
    "def print_recommend_place(uids, n=5):  \n",
    "    recommend_item = pd.DataFrame(columns = ['item', 'est'])\n",
    "    \n",
    "    for uid, iid, true_r, est, _ in predictions:\n",
    "        if uid == uids:\n",
    "            recommend_item = recommend_item.append(pd.DataFrame({'item': [iid], 'est': [est]}))\n",
    "    \n",
    "    recommend_item = recommend_item.sort_values(by = 'est', ascending= False)\n",
    "    \n",
    "    print('Gợi ý địa điểm cho ', uids)\n",
    "    for items in recommend_item['item'][0:n]:\n",
    "        print(data[data.brand_link == items]['brand_name'].values[0])"
   ]
  },
  {
   "cell_type": "markdown",
   "metadata": {},
   "source": [
    "# Tạo hàm gợi ý địa điểm dựa vào một địa điểm cụ thể"
   ]
  },
  {
   "cell_type": "code",
   "execution_count": 23,
   "metadata": {},
   "outputs": [],
   "source": [
    "def recommend_place(item, k = 5):   \n",
    "    inner_iids = knn.get_neighbors(train_set.to_inner_iid(item), k=k)\n",
    "    print('Bạn cũng có thể muốn tới các địa sau:' )\n",
    "    for ids in inner_iids:\n",
    "        print(data[data.brand_link.str.contains(train_set.to_raw_iid(ids))]['brand_name'].values[0])"
   ]
  },
  {
   "cell_type": "markdown",
   "metadata": {},
   "source": [
    "# Áp dụng cho Hồ Chí Minh"
   ]
  },
  {
   "cell_type": "code",
   "execution_count": 229,
   "metadata": {},
   "outputs": [
    {
     "name": "stdout",
     "output_type": "stream",
     "text": [
      "[{'n_epochs': 5, 'lr_all': 0.002, 'reg_all': 0.4}, {'n_epochs': 5, 'lr_all': 0.002, 'reg_all': 0.6}, {'n_epochs': 5, 'lr_all': 0.005, 'reg_all': 0.4}, {'n_epochs': 5, 'lr_all': 0.005, 'reg_all': 0.6}, {'n_epochs': 10, 'lr_all': 0.002, 'reg_all': 0.4}, {'n_epochs': 10, 'lr_all': 0.002, 'reg_all': 0.6}, {'n_epochs': 10, 'lr_all': 0.005, 'reg_all': 0.4}, {'n_epochs': 10, 'lr_all': 0.005, 'reg_all': 0.6}]\n",
      "------------\n",
      "Parameters combination 1 of 8\n",
      "params:  {'n_epochs': 5, 'lr_all': 0.002, 'reg_all': 0.4}\n",
      "------------\n",
      "Mean RMSE: 1.4414\n",
      "------------\n",
      "------------\n",
      "Parameters combination 2 of 8\n",
      "params:  {'n_epochs': 5, 'lr_all': 0.002, 'reg_all': 0.6}\n",
      "------------\n",
      "Mean RMSE: 1.4434\n",
      "------------\n",
      "------------\n",
      "Parameters combination 3 of 8\n",
      "params:  {'n_epochs': 5, 'lr_all': 0.005, 'reg_all': 0.4}\n",
      "------------\n",
      "Mean RMSE: 1.4246\n",
      "------------\n",
      "------------\n",
      "Parameters combination 4 of 8\n",
      "params:  {'n_epochs': 5, 'lr_all': 0.005, 'reg_all': 0.6}\n",
      "------------\n",
      "Mean RMSE: 1.4273\n",
      "------------\n",
      "------------\n",
      "Parameters combination 5 of 8\n",
      "params:  {'n_epochs': 10, 'lr_all': 0.002, 'reg_all': 0.4}\n",
      "------------\n",
      "Mean RMSE: 1.4288\n",
      "------------\n",
      "------------\n",
      "Parameters combination 6 of 8\n",
      "params:  {'n_epochs': 10, 'lr_all': 0.002, 'reg_all': 0.6}\n",
      "------------\n",
      "Mean RMSE: 1.4319\n",
      "------------\n",
      "------------\n",
      "Parameters combination 7 of 8\n",
      "params:  {'n_epochs': 10, 'lr_all': 0.005, 'reg_all': 0.4}\n",
      "------------\n",
      "Mean RMSE: 1.4124\n",
      "------------\n",
      "------------\n",
      "Parameters combination 8 of 8\n",
      "params:  {'n_epochs': 10, 'lr_all': 0.005, 'reg_all': 0.6}\n",
      "------------\n",
      "Mean RMSE: 1.4157\n",
      "------------\n",
      "CPU times: user 1min 31s, sys: 972 ms, total: 1min 32s\n",
      "Wall time: 1min 32s\n"
     ]
    }
   ],
   "source": [
    "%%time\n",
    "train_set, predictions = build_predictions('ho-chi-minh')"
   ]
  },
  {
   "cell_type": "code",
   "execution_count": 248,
   "metadata": {},
   "outputs": [
    {
     "name": "stdout",
     "output_type": "stream",
     "text": [
      "Estimating biases using als...\n",
      "Computing the pearson_baseline similarity matrix...\n",
      "Done computing similarity matrix.\n"
     ]
    }
   ],
   "source": [
    "sim_options = {'name': 'pearson_baseline', 'user_based': False}\n",
    "knn = KNNBaseline(sim_options=sim_options)\n",
    "knn.train(train_set) "
   ]
  },
  {
   "cell_type": "markdown",
   "metadata": {},
   "source": [
    "## Gợi ý địa điểm cho user"
   ]
  },
  {
   "cell_type": "markdown",
   "metadata": {},
   "source": [
    "### user tien97"
   ]
  },
  {
   "cell_type": "code",
   "execution_count": 275,
   "metadata": {},
   "outputs": [
    {
     "data": {
      "text/html": [
       "<div>\n",
       "<style>\n",
       "    .dataframe thead tr:only-child th {\n",
       "        text-align: right;\n",
       "    }\n",
       "\n",
       "    .dataframe thead th {\n",
       "        text-align: left;\n",
       "    }\n",
       "\n",
       "    .dataframe tbody tr th {\n",
       "        vertical-align: top;\n",
       "    }\n",
       "</style>\n",
       "<table border=\"1\" class=\"dataframe\">\n",
       "  <thead>\n",
       "    <tr style=\"text-align: right;\">\n",
       "      <th></th>\n",
       "      <th>user</th>\n",
       "      <th>item</th>\n",
       "      <th>rating</th>\n",
       "    </tr>\n",
       "  </thead>\n",
       "  <tbody>\n",
       "    <tr>\n",
       "      <th>4</th>\n",
       "      <td>tien97</td>\n",
       "      <td>https://www.foody.vn/ho-chi-minh/tabletop-boar...</td>\n",
       "      <td>10.0</td>\n",
       "    </tr>\n",
       "  </tbody>\n",
       "</table>\n",
       "</div>"
      ],
      "text/plain": [
       "     user                                               item  rating\n",
       "4  tien97  https://www.foody.vn/ho-chi-minh/tabletop-boar...    10.0"
      ]
     },
     "execution_count": 275,
     "metadata": {},
     "output_type": "execute_result"
    }
   ],
   "source": [
    "review[review.user == 'tien97']"
   ]
  },
  {
   "cell_type": "code",
   "execution_count": 279,
   "metadata": {},
   "outputs": [
    {
     "name": "stdout",
     "output_type": "stream",
     "text": [
      "Gợi ý địa điểm cho  tien97\n",
      "An Nam Quán - Gà Lên Mâm - Nguyễn Thái Bình\n",
      "Cafe Palan - Phan Xích Long\n",
      "Haru Sushi\n",
      "Starbucks Coffee - Thảo Điền\n",
      "Poke Saigon\n"
     ]
    }
   ],
   "source": [
    "print_recommend_place('tien97')"
   ]
  },
  {
   "cell_type": "markdown",
   "metadata": {},
   "source": [
    "## user tuhao2509"
   ]
  },
  {
   "cell_type": "code",
   "execution_count": 280,
   "metadata": {},
   "outputs": [
    {
     "data": {
      "text/html": [
       "<div>\n",
       "<style>\n",
       "    .dataframe thead tr:only-child th {\n",
       "        text-align: right;\n",
       "    }\n",
       "\n",
       "    .dataframe thead th {\n",
       "        text-align: left;\n",
       "    }\n",
       "\n",
       "    .dataframe tbody tr th {\n",
       "        vertical-align: top;\n",
       "    }\n",
       "</style>\n",
       "<table border=\"1\" class=\"dataframe\">\n",
       "  <thead>\n",
       "    <tr style=\"text-align: right;\">\n",
       "      <th></th>\n",
       "      <th>user</th>\n",
       "      <th>item</th>\n",
       "      <th>rating</th>\n",
       "    </tr>\n",
       "  </thead>\n",
       "  <tbody>\n",
       "    <tr>\n",
       "      <th>2</th>\n",
       "      <td>tuhao2509</td>\n",
       "      <td>https://www.foody.vn/ho-chi-minh/tocotoco-bubb...</td>\n",
       "      <td>6.4</td>\n",
       "    </tr>\n",
       "    <tr>\n",
       "      <th>78647</th>\n",
       "      <td>tuhao2509</td>\n",
       "      <td>https://www.foody.vn/dong-nai/houjicha-tra-sua...</td>\n",
       "      <td>6.6</td>\n",
       "    </tr>\n",
       "    <tr>\n",
       "      <th>154525</th>\n",
       "      <td>tuhao2509</td>\n",
       "      <td>https://www.foody.vn/ho-chi-minh/texas-chicken...</td>\n",
       "      <td>8.0</td>\n",
       "    </tr>\n",
       "    <tr>\n",
       "      <th>162203</th>\n",
       "      <td>tuhao2509</td>\n",
       "      <td>https://www.foody.vn/ho-chi-minh/tocotoco-cao-...</td>\n",
       "      <td>6.2</td>\n",
       "    </tr>\n",
       "    <tr>\n",
       "      <th>165086</th>\n",
       "      <td>tuhao2509</td>\n",
       "      <td>https://www.foody.vn/ho-chi-minh/tra-sua-bobap...</td>\n",
       "      <td>7.0</td>\n",
       "    </tr>\n",
       "  </tbody>\n",
       "</table>\n",
       "</div>"
      ],
      "text/plain": [
       "             user                                               item  rating\n",
       "2       tuhao2509  https://www.foody.vn/ho-chi-minh/tocotoco-bubb...     6.4\n",
       "78647   tuhao2509  https://www.foody.vn/dong-nai/houjicha-tra-sua...     6.6\n",
       "154525  tuhao2509  https://www.foody.vn/ho-chi-minh/texas-chicken...     8.0\n",
       "162203  tuhao2509  https://www.foody.vn/ho-chi-minh/tocotoco-cao-...     6.2\n",
       "165086  tuhao2509  https://www.foody.vn/ho-chi-minh/tra-sua-bobap...     7.0"
      ]
     },
     "execution_count": 280,
     "metadata": {},
     "output_type": "execute_result"
    }
   ],
   "source": [
    "review[review.user == 'tuhao2509']"
   ]
  },
  {
   "cell_type": "code",
   "execution_count": 281,
   "metadata": {},
   "outputs": [
    {
     "name": "stdout",
     "output_type": "stream",
     "text": [
      "Gợi ý địa điểm cho  tuhao2509\n",
      "Haru Sushi\n",
      "An Nam Quán - Gà Lên Mâm - Nguyễn Thái Bình\n",
      "Starbucks Coffee - Thảo Điền\n",
      "Oven Maru Chicken - Ẩm Thực Hàn Quốc\n",
      "Dallas Cakes & Coffee - 3 Tháng 2\n"
     ]
    }
   ],
   "source": [
    "print_recommend_place('tuhao2509')"
   ]
  },
  {
   "cell_type": "markdown",
   "metadata": {},
   "source": [
    "### user zip_zilip"
   ]
  },
  {
   "cell_type": "code",
   "execution_count": 285,
   "metadata": {},
   "outputs": [
    {
     "data": {
      "text/html": [
       "<div>\n",
       "<style>\n",
       "    .dataframe thead tr:only-child th {\n",
       "        text-align: right;\n",
       "    }\n",
       "\n",
       "    .dataframe thead th {\n",
       "        text-align: left;\n",
       "    }\n",
       "\n",
       "    .dataframe tbody tr th {\n",
       "        vertical-align: top;\n",
       "    }\n",
       "</style>\n",
       "<table border=\"1\" class=\"dataframe\">\n",
       "  <thead>\n",
       "    <tr style=\"text-align: right;\">\n",
       "      <th></th>\n",
       "      <th>user</th>\n",
       "      <th>item</th>\n",
       "      <th>rating</th>\n",
       "    </tr>\n",
       "  </thead>\n",
       "  <tbody>\n",
       "    <tr>\n",
       "      <th>3</th>\n",
       "      <td>zip_zilip</td>\n",
       "      <td>https://www.foody.vn/ho-chi-minh/le-castella-v...</td>\n",
       "      <td>7.2</td>\n",
       "    </tr>\n",
       "    <tr>\n",
       "      <th>5</th>\n",
       "      <td>zip_zilip</td>\n",
       "      <td>https://www.foody.vn/ho-chi-minh/gogi-house-qu...</td>\n",
       "      <td>7.2</td>\n",
       "    </tr>\n",
       "    <tr>\n",
       "      <th>46</th>\n",
       "      <td>zip_zilip</td>\n",
       "      <td>https://www.foody.vn/ho-chi-minh/an-vat-muoi-t...</td>\n",
       "      <td>6.8</td>\n",
       "    </tr>\n",
       "    <tr>\n",
       "      <th>23653</th>\n",
       "      <td>zip_zilip</td>\n",
       "      <td>https://www.foody.vn/lam-dong/banh-can-cay-bo</td>\n",
       "      <td>8.0</td>\n",
       "    </tr>\n",
       "    <tr>\n",
       "      <th>41095</th>\n",
       "      <td>zip_zilip</td>\n",
       "      <td>https://www.foody.vn/ho-chi-minh/com-ga-xoi-mo...</td>\n",
       "      <td>5.6</td>\n",
       "    </tr>\n",
       "    <tr>\n",
       "      <th>42153</th>\n",
       "      <td>zip_zilip</td>\n",
       "      <td>https://www.foody.vn/ho-chi-minh/com-tam-ba-ghien</td>\n",
       "      <td>7.8</td>\n",
       "    </tr>\n",
       "    <tr>\n",
       "      <th>42156</th>\n",
       "      <td>zip_zilip</td>\n",
       "      <td>https://www.foody.vn/ho-chi-minh/com-tam-ba-ghien</td>\n",
       "      <td>7.6</td>\n",
       "    </tr>\n",
       "    <tr>\n",
       "      <th>42157</th>\n",
       "      <td>zip_zilip</td>\n",
       "      <td>https://www.foody.vn/ho-chi-minh/com-tam-ba-ghien</td>\n",
       "      <td>7.2</td>\n",
       "    </tr>\n",
       "    <tr>\n",
       "      <th>51584</th>\n",
       "      <td>zip_zilip</td>\n",
       "      <td>https://www.foody.vn/ho-chi-minh/ding-tea-cong...</td>\n",
       "      <td>5.4</td>\n",
       "    </tr>\n",
       "    <tr>\n",
       "      <th>59905</th>\n",
       "      <td>zip_zilip</td>\n",
       "      <td>https://www.foody.vn/ho-chi-minh/anh-tu-ga-nuong</td>\n",
       "      <td>7.4</td>\n",
       "    </tr>\n",
       "  </tbody>\n",
       "</table>\n",
       "</div>"
      ],
      "text/plain": [
       "            user                                               item  rating\n",
       "3      zip_zilip  https://www.foody.vn/ho-chi-minh/le-castella-v...     7.2\n",
       "5      zip_zilip  https://www.foody.vn/ho-chi-minh/gogi-house-qu...     7.2\n",
       "46     zip_zilip  https://www.foody.vn/ho-chi-minh/an-vat-muoi-t...     6.8\n",
       "23653  zip_zilip      https://www.foody.vn/lam-dong/banh-can-cay-bo     8.0\n",
       "41095  zip_zilip  https://www.foody.vn/ho-chi-minh/com-ga-xoi-mo...     5.6\n",
       "42153  zip_zilip  https://www.foody.vn/ho-chi-minh/com-tam-ba-ghien     7.8\n",
       "42156  zip_zilip  https://www.foody.vn/ho-chi-minh/com-tam-ba-ghien     7.6\n",
       "42157  zip_zilip  https://www.foody.vn/ho-chi-minh/com-tam-ba-ghien     7.2\n",
       "51584  zip_zilip  https://www.foody.vn/ho-chi-minh/ding-tea-cong...     5.4\n",
       "59905  zip_zilip   https://www.foody.vn/ho-chi-minh/anh-tu-ga-nuong     7.4"
      ]
     },
     "execution_count": 285,
     "metadata": {},
     "output_type": "execute_result"
    }
   ],
   "source": [
    "review[review.user == 'zip_zilip'].head(10)"
   ]
  },
  {
   "cell_type": "code",
   "execution_count": 284,
   "metadata": {},
   "outputs": [
    {
     "name": "stdout",
     "output_type": "stream",
     "text": [
      "Gợi ý địa điểm cho  zip_zilip\n",
      "Haru Sushi\n",
      "An Nam Quán - Gà Lên Mâm - Nguyễn Thái Bình\n",
      "Starbucks Coffee - Thảo Điền\n",
      "Oven Maru Chicken - Ẩm Thực Hàn Quốc\n",
      "Dallas Cakes & Coffee - 3 Tháng 2\n"
     ]
    }
   ],
   "source": [
    "print_recommend_place('zip_zilip')"
   ]
  },
  {
   "cell_type": "markdown",
   "metadata": {},
   "source": [
    "## Gợi ý địa điểm dựa vào một địa điểm cụ thể"
   ]
  },
  {
   "cell_type": "code",
   "execution_count": 286,
   "metadata": {},
   "outputs": [
    {
     "name": "stdout",
     "output_type": "stream",
     "text": [
      "Bạn cũng có thể muốn tới các địa sau:\n",
      "El Sol - Meat & Wine - Võ Thị Sáu\n",
      "TocoToco Bubble Tea - Cộng Hòa\n",
      "Le Castella Viet Nam - Bánh Bông Lan Đài Loan - Ngô Đức Kế\n",
      "Tabletop - Boardgame & Coffee\n",
      "Gogi House - Thịt Nướng Hàn Quốc - Lê Văn Sỹ\n"
     ]
    }
   ],
   "source": [
    "recommend_place('https://www.foody.vn/ho-chi-minh/busan-korean-food-mon-an-han')"
   ]
  },
  {
   "cell_type": "code",
   "execution_count": 287,
   "metadata": {},
   "outputs": [
    {
     "name": "stdout",
     "output_type": "stream",
     "text": [
      "Bạn cũng có thể muốn tới các địa sau:\n",
      "Tàu Hủ Xe Lam - Cách Mạng Tháng 8\n",
      "Mì Ý Double B\n",
      "Phúc Long Coffee & Tea House - Nowzone\n",
      "Koi Thé Café - Ngô Đức Kế\n",
      "Texas Chicken - Phan Xích Long\n"
     ]
    }
   ],
   "source": [
    "recommend_place('https://www.foody.vn/ho-chi-minh/an-vat-ca-vien-chien')"
   ]
  },
  {
   "cell_type": "code",
   "execution_count": 288,
   "metadata": {},
   "outputs": [
    {
     "name": "stdout",
     "output_type": "stream",
     "text": [
      "Bạn cũng có thể muốn tới các địa sau:\n",
      "Bánh Canh Ghẹ Ba Sạch\n",
      "Friends By Pontian - Mì Singapore - Nguyễn Thái Học\n",
      "Cơm Tấm Ba Ghiền\n",
      "Út Cà Mau - Đặc Sản Cua Biển\n",
      "Meet Fresh - Ngô Đức Kế\n"
     ]
    }
   ],
   "source": [
    "recommend_place('https://www.foody.vn/ho-chi-minh/chilli-thai-mac-thi-buoi')"
   ]
  },
  {
   "cell_type": "markdown",
   "metadata": {},
   "source": [
    "# Áp dụng cho Hà Nội"
   ]
  },
  {
   "cell_type": "code",
   "execution_count": 11,
   "metadata": {},
   "outputs": [
    {
     "name": "stdout",
     "output_type": "stream",
     "text": [
      "[{'n_epochs': 5, 'lr_all': 0.002, 'reg_all': 0.4}, {'n_epochs': 5, 'lr_all': 0.002, 'reg_all': 0.6}, {'n_epochs': 5, 'lr_all': 0.005, 'reg_all': 0.4}, {'n_epochs': 5, 'lr_all': 0.005, 'reg_all': 0.6}, {'n_epochs': 10, 'lr_all': 0.002, 'reg_all': 0.4}, {'n_epochs': 10, 'lr_all': 0.002, 'reg_all': 0.6}, {'n_epochs': 10, 'lr_all': 0.005, 'reg_all': 0.4}, {'n_epochs': 10, 'lr_all': 0.005, 'reg_all': 0.6}]\n",
      "------------\n",
      "Parameters combination 1 of 8\n",
      "params:  {'n_epochs': 5, 'lr_all': 0.002, 'reg_all': 0.4}\n",
      "------------\n",
      "Mean RMSE: 1.2071\n",
      "------------\n",
      "------------\n",
      "Parameters combination 2 of 8\n",
      "params:  {'n_epochs': 5, 'lr_all': 0.002, 'reg_all': 0.6}\n",
      "------------\n",
      "Mean RMSE: 1.2080\n",
      "------------\n",
      "------------\n",
      "Parameters combination 3 of 8\n",
      "params:  {'n_epochs': 5, 'lr_all': 0.005, 'reg_all': 0.4}\n",
      "------------\n",
      "Mean RMSE: 1.1845\n",
      "------------\n",
      "------------\n",
      "Parameters combination 4 of 8\n",
      "params:  {'n_epochs': 5, 'lr_all': 0.005, 'reg_all': 0.6}\n",
      "------------\n",
      "Mean RMSE: 1.1869\n",
      "------------\n",
      "------------\n",
      "Parameters combination 5 of 8\n",
      "params:  {'n_epochs': 10, 'lr_all': 0.002, 'reg_all': 0.4}\n",
      "------------\n",
      "Mean RMSE: 1.1901\n",
      "------------\n",
      "------------\n",
      "Parameters combination 6 of 8\n",
      "params:  {'n_epochs': 10, 'lr_all': 0.002, 'reg_all': 0.6}\n",
      "------------\n",
      "Mean RMSE: 1.1918\n",
      "------------\n",
      "------------\n",
      "Parameters combination 7 of 8\n",
      "params:  {'n_epochs': 10, 'lr_all': 0.005, 'reg_all': 0.4}\n",
      "------------\n",
      "Mean RMSE: 1.1686\n",
      "------------\n",
      "------------\n",
      "Parameters combination 8 of 8\n",
      "params:  {'n_epochs': 10, 'lr_all': 0.005, 'reg_all': 0.6}\n",
      "------------\n",
      "Mean RMSE: 1.1724\n",
      "------------\n",
      "CPU times: user 4min 21s, sys: 3.48 s, total: 4min 25s\n",
      "Wall time: 4min 24s\n"
     ]
    }
   ],
   "source": [
    "%%time\n",
    "train_set, predictions = build_predictions('ha-noi')"
   ]
  },
  {
   "cell_type": "code",
   "execution_count": 13,
   "metadata": {},
   "outputs": [
    {
     "name": "stdout",
     "output_type": "stream",
     "text": [
      "Estimating biases using als...\n",
      "Computing the pearson_baseline similarity matrix...\n",
      "Done computing similarity matrix.\n"
     ]
    }
   ],
   "source": [
    "sim_options = {'name': 'pearson_baseline', 'user_based': False}\n",
    "knn = KNNBaseline(sim_options=sim_options)\n",
    "knn.train(train_set)"
   ]
  },
  {
   "cell_type": "markdown",
   "metadata": {},
   "source": [
    "## Gợi ý địa điểm cho user"
   ]
  },
  {
   "cell_type": "markdown",
   "metadata": {},
   "source": [
    "### user nhung.nguyen-phuong"
   ]
  },
  {
   "cell_type": "code",
   "execution_count": 19,
   "metadata": {},
   "outputs": [
    {
     "data": {
      "text/html": [
       "<div>\n",
       "<style>\n",
       "    .dataframe thead tr:only-child th {\n",
       "        text-align: right;\n",
       "    }\n",
       "\n",
       "    .dataframe thead th {\n",
       "        text-align: left;\n",
       "    }\n",
       "\n",
       "    .dataframe tbody tr th {\n",
       "        vertical-align: top;\n",
       "    }\n",
       "</style>\n",
       "<table border=\"1\" class=\"dataframe\">\n",
       "  <thead>\n",
       "    <tr style=\"text-align: right;\">\n",
       "      <th></th>\n",
       "      <th>user</th>\n",
       "      <th>item</th>\n",
       "      <th>rating</th>\n",
       "    </tr>\n",
       "  </thead>\n",
       "  <tbody>\n",
       "    <tr>\n",
       "      <th>445</th>\n",
       "      <td>nhung.nguyen-phuong</td>\n",
       "      <td>https://www.foody.vn/ha-noi/cho-tet-thu-huong</td>\n",
       "      <td>7.8</td>\n",
       "    </tr>\n",
       "    <tr>\n",
       "      <th>31274</th>\n",
       "      <td>nhung.nguyen-phuong</td>\n",
       "      <td>https://www.foody.vn/ha-noi/chao-suon-dong-xuan</td>\n",
       "      <td>7.4</td>\n",
       "    </tr>\n",
       "    <tr>\n",
       "      <th>38101</th>\n",
       "      <td>nhung.nguyen-phuong</td>\n",
       "      <td>https://www.foody.vn/ha-noi/co-lien-che-da-nan...</td>\n",
       "      <td>7.0</td>\n",
       "    </tr>\n",
       "    <tr>\n",
       "      <th>58311</th>\n",
       "      <td>nhung.nguyen-phuong</td>\n",
       "      <td>https://www.foody.vn/ha-noi/food-center-o-cho-dua</td>\n",
       "      <td>7.8</td>\n",
       "    </tr>\n",
       "    <tr>\n",
       "      <th>59196</th>\n",
       "      <td>nhung.nguyen-phuong</td>\n",
       "      <td>https://www.foody.vn/ha-noi/funny-monkey-xa-dan</td>\n",
       "      <td>7.0</td>\n",
       "    </tr>\n",
       "    <tr>\n",
       "      <th>62922</th>\n",
       "      <td>nhung.nguyen-phuong</td>\n",
       "      <td>https://www.foody.vn/ha-noi/gimbab-han-quoc-ng...</td>\n",
       "      <td>7.4</td>\n",
       "    </tr>\n",
       "    <tr>\n",
       "      <th>72330</th>\n",
       "      <td>nhung.nguyen-phuong</td>\n",
       "      <td>https://www.foody.vn/ha-noi/hera-restaurant-am...</td>\n",
       "      <td>7.8</td>\n",
       "    </tr>\n",
       "    <tr>\n",
       "      <th>72333</th>\n",
       "      <td>nhung.nguyen-phuong</td>\n",
       "      <td>https://www.foody.vn/ha-noi/hera-restaurant-am...</td>\n",
       "      <td>8.0</td>\n",
       "    </tr>\n",
       "    <tr>\n",
       "      <th>79990</th>\n",
       "      <td>nhung.nguyen-phuong</td>\n",
       "      <td>https://www.foody.vn/ha-noi/huyen-vi-sinh-to-c...</td>\n",
       "      <td>8.0</td>\n",
       "    </tr>\n",
       "    <tr>\n",
       "      <th>80000</th>\n",
       "      <td>nhung.nguyen-phuong</td>\n",
       "      <td>https://www.foody.vn/ha-noi/huyen-vi-sinh-to-c...</td>\n",
       "      <td>8.6</td>\n",
       "    </tr>\n",
       "  </tbody>\n",
       "</table>\n",
       "</div>"
      ],
      "text/plain": [
       "                      user                                               item  \\\n",
       "445    nhung.nguyen-phuong      https://www.foody.vn/ha-noi/cho-tet-thu-huong   \n",
       "31274  nhung.nguyen-phuong    https://www.foody.vn/ha-noi/chao-suon-dong-xuan   \n",
       "38101  nhung.nguyen-phuong  https://www.foody.vn/ha-noi/co-lien-che-da-nan...   \n",
       "58311  nhung.nguyen-phuong  https://www.foody.vn/ha-noi/food-center-o-cho-dua   \n",
       "59196  nhung.nguyen-phuong    https://www.foody.vn/ha-noi/funny-monkey-xa-dan   \n",
       "62922  nhung.nguyen-phuong  https://www.foody.vn/ha-noi/gimbab-han-quoc-ng...   \n",
       "72330  nhung.nguyen-phuong  https://www.foody.vn/ha-noi/hera-restaurant-am...   \n",
       "72333  nhung.nguyen-phuong  https://www.foody.vn/ha-noi/hera-restaurant-am...   \n",
       "79990  nhung.nguyen-phuong  https://www.foody.vn/ha-noi/huyen-vi-sinh-to-c...   \n",
       "80000  nhung.nguyen-phuong  https://www.foody.vn/ha-noi/huyen-vi-sinh-to-c...   \n",
       "\n",
       "       rating  \n",
       "445       7.8  \n",
       "31274     7.4  \n",
       "38101     7.0  \n",
       "58311     7.8  \n",
       "59196     7.0  \n",
       "62922     7.4  \n",
       "72330     7.8  \n",
       "72333     8.0  \n",
       "79990     8.0  \n",
       "80000     8.6  "
      ]
     },
     "execution_count": 19,
     "metadata": {},
     "output_type": "execute_result"
    }
   ],
   "source": [
    "review[review.user == 'nhung.nguyen-phuong'].head(10)"
   ]
  },
  {
   "cell_type": "code",
   "execution_count": 20,
   "metadata": {},
   "outputs": [
    {
     "name": "stdout",
     "output_type": "stream",
     "text": [
      "Gợi ý địa điểm cho  nhung.nguyen-phuong\n",
      "Phớ Đê - Tào Phớ Gây Thương Nhớ\n",
      "Cô Quỳnh - Lẩu & Nướng\n",
      "HealthWich Vietnam - Lương Ngọc Quyến\n",
      "Fraicheur - Nước Ép Cold Pressed Nguyên Chất\n",
      "JW Café - JW Marriott Hotel Hanoi\n"
     ]
    }
   ],
   "source": [
    "print_recommend_place('nhung.nguyen-phuong')"
   ]
  },
  {
   "cell_type": "markdown",
   "metadata": {},
   "source": [
    "## Gợi ý địa điểm dựa vào một địa điểm cụ thể"
   ]
  },
  {
   "cell_type": "code",
   "execution_count": 24,
   "metadata": {},
   "outputs": [
    {
     "name": "stdout",
     "output_type": "stream",
     "text": [
      "Bạn cũng có thể muốn tới các địa sau:\n",
      "Paris Gâteaux - Giảng Võ\n",
      "Nhà Hàng BBQ Yukssam\n",
      "Cora Cafe - Hòa Mã\n",
      "Tiệm Bánh Nhọ Nồi - Phó Đức Chính\n",
      "Wanna Waffle - Đinh Tiên Hoàng\n"
     ]
    }
   ],
   "source": [
    "recommend_place('https://www.foody.vn/ha-noi/cho-tet-thu-huong')"
   ]
  }
 ],
 "metadata": {
  "kernelspec": {
   "display_name": "Python 3",
   "language": "python",
   "name": "python3"
  },
  "language_info": {
   "codemirror_mode": {
    "name": "ipython",
    "version": 3
   },
   "file_extension": ".py",
   "mimetype": "text/x-python",
   "name": "python",
   "nbconvert_exporter": "python",
   "pygments_lexer": "ipython3",
   "version": "3.5.2"
  }
 },
 "nbformat": 4,
 "nbformat_minor": 2
}
